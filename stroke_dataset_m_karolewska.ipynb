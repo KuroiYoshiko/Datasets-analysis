{
  "nbformat": 4,
  "nbformat_minor": 0,
  "metadata": {
    "colab": {
      "provenance": [],
      "authorship_tag": "ABX9TyPRmVtpnJUffXA81qSZcMIg",
      "include_colab_link": true
    },
    "kernelspec": {
      "name": "python3",
      "display_name": "Python 3"
    },
    "language_info": {
      "name": "python"
    }
  },
  "cells": [
    {
      "cell_type": "markdown",
      "metadata": {
        "id": "view-in-github",
        "colab_type": "text"
      },
      "source": [
        "<a href=\"https://colab.research.google.com/github/KuroiYoshiko/Datasets-analysis/blob/master/stroke_dataset_m_karolewska.ipynb\" target=\"_parent\"><img src=\"https://colab.research.google.com/assets/colab-badge.svg\" alt=\"Open In Colab\"/></a>"
      ]
    },
    {
      "cell_type": "markdown",
      "metadata": {
        "id": "fkNBuN9Zthx3"
      },
      "source": [
        "# **Milena Karolewska, 4 rok, Informatyka**"
      ]
    },
    {
      "cell_type": "markdown",
      "metadata": {
        "id": "rG0Wjt4Xtrcp"
      },
      "source": [
        "Healthcare Stroke Dataset."
      ]
    },
    {
      "cell_type": "code",
      "metadata": {
        "colab": {
          "base_uri": "https://localhost:8080/",
          "height": 55
        },
        "id": "rLjhHt62tepD",
        "outputId": "2dc771ab-97f3-4e7d-d8c4-e850ce25c4de"
      },
      "source": [
        "import pandas as pd\n",
        "import numpy as np\n",
        "import seaborn as sns\n",
        "\n",
        "from google.colab import files\n",
        "uploaded = files.upload()"
      ],
      "execution_count": null,
      "outputs": [
        {
          "output_type": "display_data",
          "data": {
            "text/plain": [
              "<IPython.core.display.HTML object>"
            ],
            "text/html": [
              "\n",
              "     <input type=\"file\" id=\"files-783043cb-5351-4633-87c4-dbe4a8569544\" name=\"files[]\" multiple disabled\n",
              "        style=\"border:none\" />\n",
              "     <output id=\"result-783043cb-5351-4633-87c4-dbe4a8569544\">\n",
              "      Upload widget is only available when the cell has been executed in the\n",
              "      current browser session. Please rerun this cell to enable.\n",
              "      </output>\n",
              "      <script>// Copyright 2017 Google LLC\n",
              "//\n",
              "// Licensed under the Apache License, Version 2.0 (the \"License\");\n",
              "// you may not use this file except in compliance with the License.\n",
              "// You may obtain a copy of the License at\n",
              "//\n",
              "//      http://www.apache.org/licenses/LICENSE-2.0\n",
              "//\n",
              "// Unless required by applicable law or agreed to in writing, software\n",
              "// distributed under the License is distributed on an \"AS IS\" BASIS,\n",
              "// WITHOUT WARRANTIES OR CONDITIONS OF ANY KIND, either express or implied.\n",
              "// See the License for the specific language governing permissions and\n",
              "// limitations under the License.\n",
              "\n",
              "/**\n",
              " * @fileoverview Helpers for google.colab Python module.\n",
              " */\n",
              "(function(scope) {\n",
              "function span(text, styleAttributes = {}) {\n",
              "  const element = document.createElement('span');\n",
              "  element.textContent = text;\n",
              "  for (const key of Object.keys(styleAttributes)) {\n",
              "    element.style[key] = styleAttributes[key];\n",
              "  }\n",
              "  return element;\n",
              "}\n",
              "\n",
              "// Max number of bytes which will be uploaded at a time.\n",
              "const MAX_PAYLOAD_SIZE = 100 * 1024;\n",
              "\n",
              "function _uploadFiles(inputId, outputId) {\n",
              "  const steps = uploadFilesStep(inputId, outputId);\n",
              "  const outputElement = document.getElementById(outputId);\n",
              "  // Cache steps on the outputElement to make it available for the next call\n",
              "  // to uploadFilesContinue from Python.\n",
              "  outputElement.steps = steps;\n",
              "\n",
              "  return _uploadFilesContinue(outputId);\n",
              "}\n",
              "\n",
              "// This is roughly an async generator (not supported in the browser yet),\n",
              "// where there are multiple asynchronous steps and the Python side is going\n",
              "// to poll for completion of each step.\n",
              "// This uses a Promise to block the python side on completion of each step,\n",
              "// then passes the result of the previous step as the input to the next step.\n",
              "function _uploadFilesContinue(outputId) {\n",
              "  const outputElement = document.getElementById(outputId);\n",
              "  const steps = outputElement.steps;\n",
              "\n",
              "  const next = steps.next(outputElement.lastPromiseValue);\n",
              "  return Promise.resolve(next.value.promise).then((value) => {\n",
              "    // Cache the last promise value to make it available to the next\n",
              "    // step of the generator.\n",
              "    outputElement.lastPromiseValue = value;\n",
              "    return next.value.response;\n",
              "  });\n",
              "}\n",
              "\n",
              "/**\n",
              " * Generator function which is called between each async step of the upload\n",
              " * process.\n",
              " * @param {string} inputId Element ID of the input file picker element.\n",
              " * @param {string} outputId Element ID of the output display.\n",
              " * @return {!Iterable<!Object>} Iterable of next steps.\n",
              " */\n",
              "function* uploadFilesStep(inputId, outputId) {\n",
              "  const inputElement = document.getElementById(inputId);\n",
              "  inputElement.disabled = false;\n",
              "\n",
              "  const outputElement = document.getElementById(outputId);\n",
              "  outputElement.innerHTML = '';\n",
              "\n",
              "  const pickedPromise = new Promise((resolve) => {\n",
              "    inputElement.addEventListener('change', (e) => {\n",
              "      resolve(e.target.files);\n",
              "    });\n",
              "  });\n",
              "\n",
              "  const cancel = document.createElement('button');\n",
              "  inputElement.parentElement.appendChild(cancel);\n",
              "  cancel.textContent = 'Cancel upload';\n",
              "  const cancelPromise = new Promise((resolve) => {\n",
              "    cancel.onclick = () => {\n",
              "      resolve(null);\n",
              "    };\n",
              "  });\n",
              "\n",
              "  // Wait for the user to pick the files.\n",
              "  const files = yield {\n",
              "    promise: Promise.race([pickedPromise, cancelPromise]),\n",
              "    response: {\n",
              "      action: 'starting',\n",
              "    }\n",
              "  };\n",
              "\n",
              "  cancel.remove();\n",
              "\n",
              "  // Disable the input element since further picks are not allowed.\n",
              "  inputElement.disabled = true;\n",
              "\n",
              "  if (!files) {\n",
              "    return {\n",
              "      response: {\n",
              "        action: 'complete',\n",
              "      }\n",
              "    };\n",
              "  }\n",
              "\n",
              "  for (const file of files) {\n",
              "    const li = document.createElement('li');\n",
              "    li.append(span(file.name, {fontWeight: 'bold'}));\n",
              "    li.append(span(\n",
              "        `(${file.type || 'n/a'}) - ${file.size} bytes, ` +\n",
              "        `last modified: ${\n",
              "            file.lastModifiedDate ? file.lastModifiedDate.toLocaleDateString() :\n",
              "                                    'n/a'} - `));\n",
              "    const percent = span('0% done');\n",
              "    li.appendChild(percent);\n",
              "\n",
              "    outputElement.appendChild(li);\n",
              "\n",
              "    const fileDataPromise = new Promise((resolve) => {\n",
              "      const reader = new FileReader();\n",
              "      reader.onload = (e) => {\n",
              "        resolve(e.target.result);\n",
              "      };\n",
              "      reader.readAsArrayBuffer(file);\n",
              "    });\n",
              "    // Wait for the data to be ready.\n",
              "    let fileData = yield {\n",
              "      promise: fileDataPromise,\n",
              "      response: {\n",
              "        action: 'continue',\n",
              "      }\n",
              "    };\n",
              "\n",
              "    // Use a chunked sending to avoid message size limits. See b/62115660.\n",
              "    let position = 0;\n",
              "    do {\n",
              "      const length = Math.min(fileData.byteLength - position, MAX_PAYLOAD_SIZE);\n",
              "      const chunk = new Uint8Array(fileData, position, length);\n",
              "      position += length;\n",
              "\n",
              "      const base64 = btoa(String.fromCharCode.apply(null, chunk));\n",
              "      yield {\n",
              "        response: {\n",
              "          action: 'append',\n",
              "          file: file.name,\n",
              "          data: base64,\n",
              "        },\n",
              "      };\n",
              "\n",
              "      let percentDone = fileData.byteLength === 0 ?\n",
              "          100 :\n",
              "          Math.round((position / fileData.byteLength) * 100);\n",
              "      percent.textContent = `${percentDone}% done`;\n",
              "\n",
              "    } while (position < fileData.byteLength);\n",
              "  }\n",
              "\n",
              "  // All done.\n",
              "  yield {\n",
              "    response: {\n",
              "      action: 'complete',\n",
              "    }\n",
              "  };\n",
              "}\n",
              "\n",
              "scope.google = scope.google || {};\n",
              "scope.google.colab = scope.google.colab || {};\n",
              "scope.google.colab._files = {\n",
              "  _uploadFiles,\n",
              "  _uploadFilesContinue,\n",
              "};\n",
              "})(self);\n",
              "</script> "
            ]
          },
          "metadata": {}
        }
      ]
    },
    {
      "cell_type": "code",
      "metadata": {
        "colab": {
          "base_uri": "https://localhost:8080/",
          "height": 202
        },
        "id": "kpSecp7duKBX",
        "outputId": "973d7431-e067-4efa-a2da-3cadda9cda37"
      },
      "source": [
        "stroke = pd.read_csv(\"healthcare-dataset-stroke-data.csv\", index_col=False)\n",
        "stroke.head()"
      ],
      "execution_count": null,
      "outputs": [
        {
          "output_type": "execute_result",
          "data": {
            "text/html": [
              "<div>\n",
              "<style scoped>\n",
              "    .dataframe tbody tr th:only-of-type {\n",
              "        vertical-align: middle;\n",
              "    }\n",
              "\n",
              "    .dataframe tbody tr th {\n",
              "        vertical-align: top;\n",
              "    }\n",
              "\n",
              "    .dataframe thead th {\n",
              "        text-align: right;\n",
              "    }\n",
              "</style>\n",
              "<table border=\"1\" class=\"dataframe\">\n",
              "  <thead>\n",
              "    <tr style=\"text-align: right;\">\n",
              "      <th></th>\n",
              "      <th>id</th>\n",
              "      <th>gender</th>\n",
              "      <th>age</th>\n",
              "      <th>hypertension</th>\n",
              "      <th>heart_disease</th>\n",
              "      <th>ever_married</th>\n",
              "      <th>work_type</th>\n",
              "      <th>Residence_type</th>\n",
              "      <th>avg_glucose_level</th>\n",
              "      <th>bmi</th>\n",
              "      <th>smoking_status</th>\n",
              "      <th>stroke</th>\n",
              "    </tr>\n",
              "  </thead>\n",
              "  <tbody>\n",
              "    <tr>\n",
              "      <th>0</th>\n",
              "      <td>9046</td>\n",
              "      <td>Male</td>\n",
              "      <td>67.0</td>\n",
              "      <td>0</td>\n",
              "      <td>1</td>\n",
              "      <td>Yes</td>\n",
              "      <td>Private</td>\n",
              "      <td>Urban</td>\n",
              "      <td>228.69</td>\n",
              "      <td>36.6</td>\n",
              "      <td>formerly smoked</td>\n",
              "      <td>1</td>\n",
              "    </tr>\n",
              "    <tr>\n",
              "      <th>1</th>\n",
              "      <td>51676</td>\n",
              "      <td>Female</td>\n",
              "      <td>61.0</td>\n",
              "      <td>0</td>\n",
              "      <td>0</td>\n",
              "      <td>Yes</td>\n",
              "      <td>Self-employed</td>\n",
              "      <td>Rural</td>\n",
              "      <td>202.21</td>\n",
              "      <td>NaN</td>\n",
              "      <td>never smoked</td>\n",
              "      <td>1</td>\n",
              "    </tr>\n",
              "    <tr>\n",
              "      <th>2</th>\n",
              "      <td>31112</td>\n",
              "      <td>Male</td>\n",
              "      <td>80.0</td>\n",
              "      <td>0</td>\n",
              "      <td>1</td>\n",
              "      <td>Yes</td>\n",
              "      <td>Private</td>\n",
              "      <td>Rural</td>\n",
              "      <td>105.92</td>\n",
              "      <td>32.5</td>\n",
              "      <td>never smoked</td>\n",
              "      <td>1</td>\n",
              "    </tr>\n",
              "    <tr>\n",
              "      <th>3</th>\n",
              "      <td>60182</td>\n",
              "      <td>Female</td>\n",
              "      <td>49.0</td>\n",
              "      <td>0</td>\n",
              "      <td>0</td>\n",
              "      <td>Yes</td>\n",
              "      <td>Private</td>\n",
              "      <td>Urban</td>\n",
              "      <td>171.23</td>\n",
              "      <td>34.4</td>\n",
              "      <td>smokes</td>\n",
              "      <td>1</td>\n",
              "    </tr>\n",
              "    <tr>\n",
              "      <th>4</th>\n",
              "      <td>1665</td>\n",
              "      <td>Female</td>\n",
              "      <td>79.0</td>\n",
              "      <td>1</td>\n",
              "      <td>0</td>\n",
              "      <td>Yes</td>\n",
              "      <td>Self-employed</td>\n",
              "      <td>Rural</td>\n",
              "      <td>174.12</td>\n",
              "      <td>24.0</td>\n",
              "      <td>never smoked</td>\n",
              "      <td>1</td>\n",
              "    </tr>\n",
              "  </tbody>\n",
              "</table>\n",
              "</div>"
            ],
            "text/plain": [
              "      id  gender   age  ...   bmi   smoking_status stroke\n",
              "0   9046    Male  67.0  ...  36.6  formerly smoked      1\n",
              "1  51676  Female  61.0  ...   NaN     never smoked      1\n",
              "2  31112    Male  80.0  ...  32.5     never smoked      1\n",
              "3  60182  Female  49.0  ...  34.4           smokes      1\n",
              "4   1665  Female  79.0  ...  24.0     never smoked      1\n",
              "\n",
              "[5 rows x 12 columns]"
            ]
          },
          "metadata": {},
          "execution_count": 2
        }
      ]
    },
    {
      "cell_type": "code",
      "metadata": {
        "colab": {
          "base_uri": "https://localhost:8080/"
        },
        "id": "Wmnydsc_uYdR",
        "outputId": "e98f90f9-f01d-45e3-d1ec-a9c5cb7ba2d8"
      },
      "source": [
        "# Count missing data\n",
        "column_names = stroke.columns\n",
        "counter = stroke[column_names].isnull().sum()\n",
        "print (counter)"
      ],
      "execution_count": null,
      "outputs": [
        {
          "output_type": "stream",
          "name": "stdout",
          "text": [
            "id                     0\n",
            "gender                 0\n",
            "age                    0\n",
            "hypertension           0\n",
            "heart_disease          0\n",
            "ever_married           0\n",
            "work_type              0\n",
            "Residence_type         0\n",
            "avg_glucose_level      0\n",
            "bmi                  201\n",
            "smoking_status         0\n",
            "stroke                 0\n",
            "dtype: int64\n"
          ]
        }
      ]
    },
    {
      "cell_type": "markdown",
      "metadata": {
        "id": "-ELZdyDZudon"
      },
      "source": [
        "## **Czyszczenie danych**"
      ]
    },
    {
      "cell_type": "code",
      "metadata": {
        "colab": {
          "base_uri": "https://localhost:8080/",
          "height": 564
        },
        "id": "DPdX8N5VuipX",
        "outputId": "84602526-a54e-4c88-8ee5-a30e46165d96"
      },
      "source": [
        "#HEATMAP\n",
        "\n",
        "cols = stroke.columns[:30]\n",
        "colours = ['#000099', '#ffff00']\n",
        "sns.heatmap(stroke[cols].isnull(), cmap=sns.color_palette(colours))\n",
        "\n",
        "for col in stroke.columns:\n",
        "    pct_missing = np.mean(stroke[col].isnull())\n",
        "    print('{} - {}%'.format(col, round(pct_missing*100)))"
      ],
      "execution_count": null,
      "outputs": [
        {
          "output_type": "stream",
          "name": "stdout",
          "text": [
            "id - 0%\n",
            "gender - 0%\n",
            "age - 0%\n",
            "hypertension - 0%\n",
            "heart_disease - 0%\n",
            "ever_married - 0%\n",
            "work_type - 0%\n",
            "Residence_type - 0%\n",
            "avg_glucose_level - 0%\n",
            "bmi - 4%\n",
            "smoking_status - 0%\n",
            "stroke - 0%\n"
          ]
        },
        {
          "output_type": "display_data",
          "data": {
            "image/png": "[encoded data removed]",
            "text/plain": [
              "<Figure size 432x288 with 2 Axes>"
            ]
          },
          "metadata": {
            "needs_background": "light"
          }
        }
      ]
    },
    {
      "cell_type": "code",
      "metadata": {
        "colab": {
          "base_uri": "https://localhost:8080/",
          "height": 706
        },
        "id": "8MQyygzEuwM6",
        "outputId": "ab84fccf-a8a6-4062-eb74-79b3fcae2938"
      },
      "source": [
        "import missingno as msno\n",
        "import matplotlib.pyplot as plt\n",
        "\n",
        "msno.matrix(stroke)\n",
        "plt.show()"
      ],
      "execution_count": null,
      "outputs": [
        {
          "output_type": "display_data",
          "data": {
            "image/png": "[encoded data removed]",
            "text/plain": [
              "<Figure size 1800x720 with 2 Axes>"
            ]
          },
          "metadata": {
            "needs_background": "light"
          }
        }
      ]
    },
    {
      "cell_type": "markdown",
      "metadata": {
        "id": "rVRYKRA3vBy6"
      },
      "source": [
        "Brakujących wartości w kolumnie 'bmi' mamy jedynie 201 na 5110 obserwacji. Najlepiej więc będzie usunąć jedynie wiersze, które wartości 'bmi' nie zawierają."
      ]
    },
    {
      "cell_type": "code",
      "metadata": {
        "colab": {
          "base_uri": "https://localhost:8080/"
        },
        "id": "Hi1VF7opwjyq",
        "outputId": "a679ec89-482c-4db0-fbf7-cdfa4d4b1140"
      },
      "source": [
        "for col in stroke.columns:\n",
        "    missing = stroke[col].isnull()\n",
        "    num_missing = np.sum(missing)\n",
        "\n",
        "    if num_missing > 0:\n",
        "        print('created missing indicator for: {}'.format(col))\n",
        "        stroke['{}_ismissing'.format(col)] = missing\n",
        "\n",
        "ismissing_cols = [col for col in stroke.columns if 'ismissing' in col]\n",
        "stroke['num_missing'] = stroke[ismissing_cols].sum(axis=1)\n",
        "\n",
        "\n",
        "ind_missing = stroke[stroke['num_missing'] > 0].index\n",
        "\n",
        "\n",
        "stroke = stroke.drop(ind_missing, axis=0)\n",
        "print(stroke)"
      ],
      "execution_count": null,
      "outputs": [
        {
          "output_type": "stream",
          "name": "stdout",
          "text": [
            "created missing indicator for: bmi\n",
            "         id  gender   age  ...  stroke  bmi_ismissing num_missing\n",
            "0      9046    Male  67.0  ...       1          False           0\n",
            "2     31112    Male  80.0  ...       1          False           0\n",
            "3     60182  Female  49.0  ...       1          False           0\n",
            "4      1665  Female  79.0  ...       1          False           0\n",
            "5     56669    Male  81.0  ...       1          False           0\n",
            "...     ...     ...   ...  ...     ...            ...         ...\n",
            "5104  14180  Female  13.0  ...       0          False           0\n",
            "5106  44873  Female  81.0  ...       0          False           0\n",
            "5107  19723  Female  35.0  ...       0          False           0\n",
            "5108  37544    Male  51.0  ...       0          False           0\n",
            "5109  44679  Female  44.0  ...       0          False           0\n",
            "\n",
            "[4909 rows x 14 columns]\n"
          ]
        }
      ]
    },
    {
      "cell_type": "markdown",
      "metadata": {
        "id": "LsD7BPxLw24B"
      },
      "source": [
        "Sprawdzamy, czy usunęło się wszystko"
      ]
    },
    {
      "cell_type": "code",
      "metadata": {
        "colab": {
          "base_uri": "https://localhost:8080/"
        },
        "id": "2dgf4j1WwzkD",
        "outputId": "638858a4-0c14-4955-a944-ca36b40da827"
      },
      "source": [
        "# Count missing data\n",
        "column_names = stroke.columns\n",
        "counter = stroke[column_names].isnull().sum()\n",
        "print (counter)"
      ],
      "execution_count": null,
      "outputs": [
        {
          "output_type": "stream",
          "name": "stdout",
          "text": [
            "id                   0\n",
            "gender               0\n",
            "age                  0\n",
            "hypertension         0\n",
            "heart_disease        0\n",
            "ever_married         0\n",
            "work_type            0\n",
            "Residence_type       0\n",
            "avg_glucose_level    0\n",
            "bmi                  0\n",
            "smoking_status       0\n",
            "stroke               0\n",
            "bmi_ismissing        0\n",
            "num_missing          0\n",
            "dtype: int64\n"
          ]
        }
      ]
    },
    {
      "cell_type": "code",
      "metadata": {
        "colab": {
          "base_uri": "https://localhost:8080/",
          "height": 202
        },
        "id": "62wmb2tqw-ot",
        "outputId": "818fadb9-89b2-4f43-8794-29a50a1df58e"
      },
      "source": [
        "# Drop added columns\n",
        "cols_to_drop = ['bmi_ismissing','num_missing']\n",
        "stroke = stroke.drop(cols_to_drop, axis=1)\n",
        "stroke.head()"
      ],
      "execution_count": null,
      "outputs": [
        {
          "output_type": "execute_result",
          "data": {
            "text/html": [
              "<div>\n",
              "<style scoped>\n",
              "    .dataframe tbody tr th:only-of-type {\n",
              "        vertical-align: middle;\n",
              "    }\n",
              "\n",
              "    .dataframe tbody tr th {\n",
              "        vertical-align: top;\n",
              "    }\n",
              "\n",
              "    .dataframe thead th {\n",
              "        text-align: right;\n",
              "    }\n",
              "</style>\n",
              "<table border=\"1\" class=\"dataframe\">\n",
              "  <thead>\n",
              "    <tr style=\"text-align: right;\">\n",
              "      <th></th>\n",
              "      <th>id</th>\n",
              "      <th>gender</th>\n",
              "      <th>age</th>\n",
              "      <th>hypertension</th>\n",
              "      <th>heart_disease</th>\n",
              "      <th>ever_married</th>\n",
              "      <th>work_type</th>\n",
              "      <th>Residence_type</th>\n",
              "      <th>avg_glucose_level</th>\n",
              "      <th>bmi</th>\n",
              "      <th>smoking_status</th>\n",
              "      <th>stroke</th>\n",
              "    </tr>\n",
              "  </thead>\n",
              "  <tbody>\n",
              "    <tr>\n",
              "      <th>0</th>\n",
              "      <td>9046</td>\n",
              "      <td>Male</td>\n",
              "      <td>67.0</td>\n",
              "      <td>0</td>\n",
              "      <td>1</td>\n",
              "      <td>Yes</td>\n",
              "      <td>Private</td>\n",
              "      <td>Urban</td>\n",
              "      <td>228.69</td>\n",
              "      <td>36.6</td>\n",
              "      <td>formerly smoked</td>\n",
              "      <td>1</td>\n",
              "    </tr>\n",
              "    <tr>\n",
              "      <th>2</th>\n",
              "      <td>31112</td>\n",
              "      <td>Male</td>\n",
              "      <td>80.0</td>\n",
              "      <td>0</td>\n",
              "      <td>1</td>\n",
              "      <td>Yes</td>\n",
              "      <td>Private</td>\n",
              "      <td>Rural</td>\n",
              "      <td>105.92</td>\n",
              "      <td>32.5</td>\n",
              "      <td>never smoked</td>\n",
              "      <td>1</td>\n",
              "    </tr>\n",
              "    <tr>\n",
              "      <th>3</th>\n",
              "      <td>60182</td>\n",
              "      <td>Female</td>\n",
              "      <td>49.0</td>\n",
              "      <td>0</td>\n",
              "      <td>0</td>\n",
              "      <td>Yes</td>\n",
              "      <td>Private</td>\n",
              "      <td>Urban</td>\n",
              "      <td>171.23</td>\n",
              "      <td>34.4</td>\n",
              "      <td>smokes</td>\n",
              "      <td>1</td>\n",
              "    </tr>\n",
              "    <tr>\n",
              "      <th>4</th>\n",
              "      <td>1665</td>\n",
              "      <td>Female</td>\n",
              "      <td>79.0</td>\n",
              "      <td>1</td>\n",
              "      <td>0</td>\n",
              "      <td>Yes</td>\n",
              "      <td>Self-employed</td>\n",
              "      <td>Rural</td>\n",
              "      <td>174.12</td>\n",
              "      <td>24.0</td>\n",
              "      <td>never smoked</td>\n",
              "      <td>1</td>\n",
              "    </tr>\n",
              "    <tr>\n",
              "      <th>5</th>\n",
              "      <td>56669</td>\n",
              "      <td>Male</td>\n",
              "      <td>81.0</td>\n",
              "      <td>0</td>\n",
              "      <td>0</td>\n",
              "      <td>Yes</td>\n",
              "      <td>Private</td>\n",
              "      <td>Urban</td>\n",
              "      <td>186.21</td>\n",
              "      <td>29.0</td>\n",
              "      <td>formerly smoked</td>\n",
              "      <td>1</td>\n",
              "    </tr>\n",
              "  </tbody>\n",
              "</table>\n",
              "</div>"
            ],
            "text/plain": [
              "      id  gender   age  ...   bmi   smoking_status stroke\n",
              "0   9046    Male  67.0  ...  36.6  formerly smoked      1\n",
              "2  31112    Male  80.0  ...  32.5     never smoked      1\n",
              "3  60182  Female  49.0  ...  34.4           smokes      1\n",
              "4   1665  Female  79.0  ...  24.0     never smoked      1\n",
              "5  56669    Male  81.0  ...  29.0  formerly smoked      1\n",
              "\n",
              "[5 rows x 12 columns]"
            ]
          },
          "metadata": {},
          "execution_count": 8
        }
      ]
    },
    {
      "cell_type": "markdown",
      "metadata": {
        "id": "qiz5Jn0zyTgG"
      },
      "source": [
        "Jak widzimy, kolumny gender, ever_married, work_type, Residence_type i smoking_status są stringami. Jeśli jest w ich mała ilość unikalnych wartości można zastanowić się, czy zawarte w nich dane można przedstawić w inny sposób."
      ]
    },
    {
      "cell_type": "code",
      "metadata": {
        "colab": {
          "base_uri": "https://localhost:8080/"
        },
        "id": "ixAC19jR0dMk",
        "outputId": "b3f8c717-2896-41ce-c53e-4c23b1fb56f3"
      },
      "source": [
        "print(\"gender unique:\", stroke['gender'].unique())\n",
        "print(\"ever_married unique:\", stroke['ever_married'].unique())\n",
        "print(\"work_type unique:\", stroke['work_type'].unique())\n",
        "print(\"Residence_type unique:\", stroke['Residence_type'].unique())\n",
        "print(\"smoking_status unique:\", stroke['smoking_status'].unique())"
      ],
      "execution_count": null,
      "outputs": [
        {
          "output_type": "stream",
          "name": "stdout",
          "text": [
            "gender unique: ['Male' 'Female' 'Other']\n",
            "ever_married unique: ['Yes' 'No']\n",
            "work_type unique: ['Private' 'Self-employed' 'Govt_job' 'children' 'Never_worked']\n",
            "Residence_type unique: ['Urban' 'Rural']\n",
            "smoking_status unique: ['formerly smoked' 'never smoked' 'smokes' 'Unknown']\n"
          ]
        }
      ]
    },
    {
      "cell_type": "markdown",
      "metadata": {
        "id": "bxSlTgCV32Kn"
      },
      "source": [
        "Maksymalna ilość wartości unikalnych to 5, więc możemy przy użyciu LabelEncodera przekształcić stringi w odpowiedniki numeryczne."
      ]
    },
    {
      "cell_type": "code",
      "metadata": {
        "colab": {
          "base_uri": "https://localhost:8080/"
        },
        "id": "csgZvuWp6dcx",
        "outputId": "2d349117-6352-485c-e371-ec6d5b7e7c42"
      },
      "source": [
        "from sklearn import preprocessing\n",
        "le = preprocessing.LabelEncoder()\n",
        "\n",
        "le.fit(stroke['gender'])\n",
        "gender_mapping = dict(zip(le.classes_, le.transform(le.classes_)))\n",
        "print(gender_mapping)\n",
        "stroke.gender = le.fit_transform(stroke.gender)\n",
        "\n",
        "le.fit(stroke['ever_married'])\n",
        "ever_married_mapping = dict(zip(le.classes_, le.transform(le.classes_)))\n",
        "print(ever_married_mapping)\n",
        "stroke.ever_married = le.fit_transform(stroke.ever_married)\n",
        "\n",
        "le.fit(stroke['work_type'])\n",
        "work_type_mapping = dict(zip(le.classes_, le.transform(le.classes_)))\n",
        "print(work_type_mapping)\n",
        "stroke.work_type = le.fit_transform(stroke.work_type)\n",
        "\n",
        "le.fit(stroke['Residence_type'])\n",
        "residence_type_mapping = dict(zip(le.classes_, le.transform(le.classes_)))\n",
        "print(residence_type_mapping)\n",
        "stroke.Residence_type = le.fit_transform(stroke.Residence_type)\n",
        "\n",
        "le.fit(stroke['smoking_status'])\n",
        "smoking_status_mapping = dict(zip(le.classes_, le.transform(le.classes_)))\n",
        "print(smoking_status_mapping)\n",
        "stroke.smoking_status = le.fit_transform(stroke.smoking_status)\n",
        "\n"
      ],
      "execution_count": null,
      "outputs": [
        {
          "output_type": "stream",
          "name": "stdout",
          "text": [
            "{'Female': 0, 'Male': 1, 'Other': 2}\n",
            "{'No': 0, 'Yes': 1}\n",
            "{'Govt_job': 0, 'Never_worked': 1, 'Private': 2, 'Self-employed': 3, 'children': 4}\n",
            "{'Rural': 0, 'Urban': 1}\n",
            "{'Unknown': 0, 'formerly smoked': 1, 'never smoked': 2, 'smokes': 3}\n"
          ]
        }
      ]
    },
    {
      "cell_type": "code",
      "metadata": {
        "colab": {
          "base_uri": "https://localhost:8080/",
          "height": 202
        },
        "id": "dTnQ3rrC41Qk",
        "outputId": "b487e27a-9bb3-4be4-c320-d81d6114793d"
      },
      "source": [
        "stroke.head()"
      ],
      "execution_count": null,
      "outputs": [
        {
          "output_type": "execute_result",
          "data": {
            "text/html": [
              "<div>\n",
              "<style scoped>\n",
              "    .dataframe tbody tr th:only-of-type {\n",
              "        vertical-align: middle;\n",
              "    }\n",
              "\n",
              "    .dataframe tbody tr th {\n",
              "        vertical-align: top;\n",
              "    }\n",
              "\n",
              "    .dataframe thead th {\n",
              "        text-align: right;\n",
              "    }\n",
              "</style>\n",
              "<table border=\"1\" class=\"dataframe\">\n",
              "  <thead>\n",
              "    <tr style=\"text-align: right;\">\n",
              "      <th></th>\n",
              "      <th>id</th>\n",
              "      <th>gender</th>\n",
              "      <th>age</th>\n",
              "      <th>hypertension</th>\n",
              "      <th>heart_disease</th>\n",
              "      <th>ever_married</th>\n",
              "      <th>work_type</th>\n",
              "      <th>Residence_type</th>\n",
              "      <th>avg_glucose_level</th>\n",
              "      <th>bmi</th>\n",
              "      <th>smoking_status</th>\n",
              "      <th>stroke</th>\n",
              "    </tr>\n",
              "  </thead>\n",
              "  <tbody>\n",
              "    <tr>\n",
              "      <th>0</th>\n",
              "      <td>9046</td>\n",
              "      <td>1</td>\n",
              "      <td>67.0</td>\n",
              "      <td>0</td>\n",
              "      <td>1</td>\n",
              "      <td>1</td>\n",
              "      <td>2</td>\n",
              "      <td>1</td>\n",
              "      <td>228.69</td>\n",
              "      <td>36.6</td>\n",
              "      <td>1</td>\n",
              "      <td>1</td>\n",
              "    </tr>\n",
              "    <tr>\n",
              "      <th>2</th>\n",
              "      <td>31112</td>\n",
              "      <td>1</td>\n",
              "      <td>80.0</td>\n",
              "      <td>0</td>\n",
              "      <td>1</td>\n",
              "      <td>1</td>\n",
              "      <td>2</td>\n",
              "      <td>0</td>\n",
              "      <td>105.92</td>\n",
              "      <td>32.5</td>\n",
              "      <td>2</td>\n",
              "      <td>1</td>\n",
              "    </tr>\n",
              "    <tr>\n",
              "      <th>3</th>\n",
              "      <td>60182</td>\n",
              "      <td>0</td>\n",
              "      <td>49.0</td>\n",
              "      <td>0</td>\n",
              "      <td>0</td>\n",
              "      <td>1</td>\n",
              "      <td>2</td>\n",
              "      <td>1</td>\n",
              "      <td>171.23</td>\n",
              "      <td>34.4</td>\n",
              "      <td>3</td>\n",
              "      <td>1</td>\n",
              "    </tr>\n",
              "    <tr>\n",
              "      <th>4</th>\n",
              "      <td>1665</td>\n",
              "      <td>0</td>\n",
              "      <td>79.0</td>\n",
              "      <td>1</td>\n",
              "      <td>0</td>\n",
              "      <td>1</td>\n",
              "      <td>3</td>\n",
              "      <td>0</td>\n",
              "      <td>174.12</td>\n",
              "      <td>24.0</td>\n",
              "      <td>2</td>\n",
              "      <td>1</td>\n",
              "    </tr>\n",
              "    <tr>\n",
              "      <th>5</th>\n",
              "      <td>56669</td>\n",
              "      <td>1</td>\n",
              "      <td>81.0</td>\n",
              "      <td>0</td>\n",
              "      <td>0</td>\n",
              "      <td>1</td>\n",
              "      <td>2</td>\n",
              "      <td>1</td>\n",
              "      <td>186.21</td>\n",
              "      <td>29.0</td>\n",
              "      <td>1</td>\n",
              "      <td>1</td>\n",
              "    </tr>\n",
              "  </tbody>\n",
              "</table>\n",
              "</div>"
            ],
            "text/plain": [
              "      id  gender   age  ...   bmi  smoking_status  stroke\n",
              "0   9046       1  67.0  ...  36.6               1       1\n",
              "2  31112       1  80.0  ...  32.5               2       1\n",
              "3  60182       0  49.0  ...  34.4               3       1\n",
              "4   1665       0  79.0  ...  24.0               2       1\n",
              "5  56669       1  81.0  ...  29.0               1       1\n",
              "\n",
              "[5 rows x 12 columns]"
            ]
          },
          "metadata": {},
          "execution_count": 11
        }
      ]
    },
    {
      "cell_type": "markdown",
      "metadata": {
        "id": "qTO20tlG8Eoa"
      },
      "source": [
        "Możemy również pozbyć się kolumny id - nie będzie nam ona potrzebna."
      ]
    },
    {
      "cell_type": "code",
      "metadata": {
        "colab": {
          "base_uri": "https://localhost:8080/",
          "height": 202
        },
        "id": "lq9QUwwG7-ry",
        "outputId": "d8e2472a-cfa4-4e33-e5fd-a3095cfdf01e"
      },
      "source": [
        "stroke = stroke.drop(\"id\", axis=1)\n",
        "stroke.head()"
      ],
      "execution_count": null,
      "outputs": [
        {
          "output_type": "execute_result",
          "data": {
            "text/html": [
              "<div>\n",
              "<style scoped>\n",
              "    .dataframe tbody tr th:only-of-type {\n",
              "        vertical-align: middle;\n",
              "    }\n",
              "\n",
              "    .dataframe tbody tr th {\n",
              "        vertical-align: top;\n",
              "    }\n",
              "\n",
              "    .dataframe thead th {\n",
              "        text-align: right;\n",
              "    }\n",
              "</style>\n",
              "<table border=\"1\" class=\"dataframe\">\n",
              "  <thead>\n",
              "    <tr style=\"text-align: right;\">\n",
              "      <th></th>\n",
              "      <th>gender</th>\n",
              "      <th>age</th>\n",
              "      <th>hypertension</th>\n",
              "      <th>heart_disease</th>\n",
              "      <th>ever_married</th>\n",
              "      <th>work_type</th>\n",
              "      <th>Residence_type</th>\n",
              "      <th>avg_glucose_level</th>\n",
              "      <th>bmi</th>\n",
              "      <th>smoking_status</th>\n",
              "      <th>stroke</th>\n",
              "    </tr>\n",
              "  </thead>\n",
              "  <tbody>\n",
              "    <tr>\n",
              "      <th>0</th>\n",
              "      <td>1</td>\n",
              "      <td>67.0</td>\n",
              "      <td>0</td>\n",
              "      <td>1</td>\n",
              "      <td>1</td>\n",
              "      <td>2</td>\n",
              "      <td>1</td>\n",
              "      <td>228.69</td>\n",
              "      <td>36.6</td>\n",
              "      <td>1</td>\n",
              "      <td>1</td>\n",
              "    </tr>\n",
              "    <tr>\n",
              "      <th>2</th>\n",
              "      <td>1</td>\n",
              "      <td>80.0</td>\n",
              "      <td>0</td>\n",
              "      <td>1</td>\n",
              "      <td>1</td>\n",
              "      <td>2</td>\n",
              "      <td>0</td>\n",
              "      <td>105.92</td>\n",
              "      <td>32.5</td>\n",
              "      <td>2</td>\n",
              "      <td>1</td>\n",
              "    </tr>\n",
              "    <tr>\n",
              "      <th>3</th>\n",
              "      <td>0</td>\n",
              "      <td>49.0</td>\n",
              "      <td>0</td>\n",
              "      <td>0</td>\n",
              "      <td>1</td>\n",
              "      <td>2</td>\n",
              "      <td>1</td>\n",
              "      <td>171.23</td>\n",
              "      <td>34.4</td>\n",
              "      <td>3</td>\n",
              "      <td>1</td>\n",
              "    </tr>\n",
              "    <tr>\n",
              "      <th>4</th>\n",
              "      <td>0</td>\n",
              "      <td>79.0</td>\n",
              "      <td>1</td>\n",
              "      <td>0</td>\n",
              "      <td>1</td>\n",
              "      <td>3</td>\n",
              "      <td>0</td>\n",
              "      <td>174.12</td>\n",
              "      <td>24.0</td>\n",
              "      <td>2</td>\n",
              "      <td>1</td>\n",
              "    </tr>\n",
              "    <tr>\n",
              "      <th>5</th>\n",
              "      <td>1</td>\n",
              "      <td>81.0</td>\n",
              "      <td>0</td>\n",
              "      <td>0</td>\n",
              "      <td>1</td>\n",
              "      <td>2</td>\n",
              "      <td>1</td>\n",
              "      <td>186.21</td>\n",
              "      <td>29.0</td>\n",
              "      <td>1</td>\n",
              "      <td>1</td>\n",
              "    </tr>\n",
              "  </tbody>\n",
              "</table>\n",
              "</div>"
            ],
            "text/plain": [
              "   gender   age  hypertension  ...   bmi  smoking_status  stroke\n",
              "0       1  67.0             0  ...  36.6               1       1\n",
              "2       1  80.0             0  ...  32.5               2       1\n",
              "3       0  49.0             0  ...  34.4               3       1\n",
              "4       0  79.0             1  ...  24.0               2       1\n",
              "5       1  81.0             0  ...  29.0               1       1\n",
              "\n",
              "[5 rows x 11 columns]"
            ]
          },
          "metadata": {},
          "execution_count": 12
        }
      ]
    },
    {
      "cell_type": "markdown",
      "metadata": {
        "id": "fvpWCAjv8xog"
      },
      "source": [
        "Możemy sprawdzić, czy nie ma duplikatów."
      ]
    },
    {
      "cell_type": "code",
      "metadata": {
        "colab": {
          "base_uri": "https://localhost:8080/"
        },
        "id": "wmH7ggvM8r8S",
        "outputId": "bbc45f86-2b4e-4045-f5dc-549b5e64f22e"
      },
      "source": [
        "duplicated_rows= stroke[stroke.duplicated()]\n",
        "print(duplicated_rows)"
      ],
      "execution_count": null,
      "outputs": [
        {
          "output_type": "stream",
          "name": "stdout",
          "text": [
            "Empty DataFrame\n",
            "Columns: [gender, age, hypertension, heart_disease, ever_married, work_type, Residence_type, avg_glucose_level, bmi, smoking_status, stroke]\n",
            "Index: []\n"
          ]
        }
      ]
    },
    {
      "cell_type": "markdown",
      "metadata": {
        "id": "RoPMxfAn9msL"
      },
      "source": [
        "## **Analiza EDA**"
      ]
    },
    {
      "cell_type": "markdown",
      "metadata": {
        "id": "o190lsnVQ6cE"
      },
      "source": [
        "**Przedstawienie ogólnych zależności ludzi po udarze i zdrowych**"
      ]
    },
    {
      "cell_type": "code",
      "metadata": {
        "colab": {
          "base_uri": "https://localhost:8080/",
          "height": 386
        },
        "id": "DKu3AawXQ9zG",
        "outputId": "0f04b04e-ac20-44ba-91a3-1e21e2c54c9d"
      },
      "source": [
        "sns.catplot(x='ever_married',kind='count',col='stroke',data=stroke)"
      ],
      "execution_count": null,
      "outputs": [
        {
          "output_type": "execute_result",
          "data": {
            "text/plain": [
              "<seaborn.axisgrid.FacetGrid at 0x7f46dca19cd0>"
            ]
          },
          "metadata": {},
          "execution_count": 14
        },
        {
          "output_type": "display_data",
          "data": {
            "image/png": "[encoded data removed]",
            "text/plain": [
              "<Figure size 720x360 with 2 Axes>"
            ]
          },
          "metadata": {
            "needs_background": "light"
          }
        }
      ]
    },
    {
      "cell_type": "code",
      "metadata": {
        "colab": {
          "base_uri": "https://localhost:8080/",
          "height": 386
        },
        "id": "k2Y-FDS4RDHb",
        "outputId": "77f8128b-3fc3-47da-9b7e-457d2470c684"
      },
      "source": [
        "sns.catplot(x='work_type',kind='count',col='stroke',data=stroke)"
      ],
      "execution_count": null,
      "outputs": [
        {
          "output_type": "execute_result",
          "data": {
            "text/plain": [
              "<seaborn.axisgrid.FacetGrid at 0x7f46dc7877d0>"
            ]
          },
          "metadata": {},
          "execution_count": 15
        },
        {
          "output_type": "display_data",
          "data": {
            "image/png": "[encoded data removed]",
            "text/plain": [
              "<Figure size 720x360 with 2 Axes>"
            ]
          },
          "metadata": {
            "needs_background": "light"
          }
        }
      ]
    },
    {
      "cell_type": "code",
      "metadata": {
        "colab": {
          "base_uri": "https://localhost:8080/",
          "height": 386
        },
        "id": "sFy_BxP_RI1h",
        "outputId": "382b16eb-2f9f-429e-8a36-e466ce0f4613"
      },
      "source": [
        "sns.catplot(x='smoking_status',kind='count',col='stroke',data=stroke)"
      ],
      "execution_count": null,
      "outputs": [
        {
          "output_type": "execute_result",
          "data": {
            "text/plain": [
              "<seaborn.axisgrid.FacetGrid at 0x7fced4565ad0>"
            ]
          },
          "metadata": {},
          "execution_count": 38
        },
        {
          "output_type": "display_data",
          "data": {
            "image/png": "[encoded data removed]",
            "text/plain": [
              "<Figure size 720x360 with 2 Axes>"
            ]
          },
          "metadata": {
            "needs_background": "light"
          }
        }
      ]
    },
    {
      "cell_type": "code",
      "metadata": {
        "colab": {
          "base_uri": "https://localhost:8080/",
          "height": 386
        },
        "id": "HL0fnvqKRa6Q",
        "outputId": "ff14ce13-36b3-4e03-e5e5-f9711a5b2f5c"
      },
      "source": [
        "sns.catplot(x='Residence_type',kind='count',col='stroke',data=stroke)"
      ],
      "execution_count": null,
      "outputs": [
        {
          "output_type": "execute_result",
          "data": {
            "text/plain": [
              "<seaborn.axisgrid.FacetGrid at 0x7fced44e10d0>"
            ]
          },
          "metadata": {},
          "execution_count": 39
        },
        {
          "output_type": "display_data",
          "data": {
            "image/png": "[encoded data removed]",
            "text/plain": [
              "<Figure size 720x360 with 2 Axes>"
            ]
          },
          "metadata": {
            "needs_background": "light"
          }
        }
      ]
    },
    {
      "cell_type": "code",
      "metadata": {
        "colab": {
          "base_uri": "https://localhost:8080/",
          "height": 386
        },
        "id": "k_2Q2HNuRfOg",
        "outputId": "86996d42-727b-444d-d417-7dbb03823db1"
      },
      "source": [
        "sns.catplot(x='heart_disease',kind='count',col='stroke',data=stroke)"
      ],
      "execution_count": null,
      "outputs": [
        {
          "output_type": "execute_result",
          "data": {
            "text/plain": [
              "<seaborn.axisgrid.FacetGrid at 0x7fced4445990>"
            ]
          },
          "metadata": {},
          "execution_count": 40
        },
        {
          "output_type": "display_data",
          "data": {
            "image/png": "[encoded data removed]",
            "text/plain": [
              "<Figure size 720x360 with 2 Axes>"
            ]
          },
          "metadata": {
            "needs_background": "light"
          }
        }
      ]
    },
    {
      "cell_type": "markdown",
      "metadata": {
        "id": "w7F2jvB-D71-"
      },
      "source": [
        "**Ilość osób z udarem**"
      ]
    },
    {
      "cell_type": "markdown",
      "metadata": {
        "id": "w-wQmoAjESSx"
      },
      "source": [
        "Można zobaczyć, że na 4909 badanych 209 miało udar."
      ]
    },
    {
      "cell_type": "code",
      "metadata": {
        "colab": {
          "base_uri": "https://localhost:8080/"
        },
        "id": "dIItHpR1EMEC",
        "outputId": "a7757494-2fac-4c3b-dde8-c13ce16a03b1"
      },
      "source": [
        "print(stroke['stroke'].value_counts())"
      ],
      "execution_count": null,
      "outputs": [
        {
          "output_type": "stream",
          "name": "stdout",
          "text": [
            "0    4700\n",
            "1     209\n",
            "Name: stroke, dtype: int64\n"
          ]
        }
      ]
    },
    {
      "cell_type": "code",
      "metadata": {
        "colab": {
          "base_uri": "https://localhost:8080/",
          "height": 460
        },
        "id": "G97_xkEzEDbQ",
        "outputId": "ca8e7648-4fbe-457d-e19e-074056d87e51"
      },
      "source": [
        "plt.figure(figsize=(10,7))\n",
        "sns.countplot(x = 'stroke',\n",
        "              data = stroke,\n",
        "              order = stroke['stroke'].value_counts().index)"
      ],
      "execution_count": null,
      "outputs": [
        {
          "output_type": "execute_result",
          "data": {
            "text/plain": [
              "<matplotlib.axes._subplots.AxesSubplot at 0x7f46dc68c6d0>"
            ]
          },
          "metadata": {},
          "execution_count": 17
        },
        {
          "output_type": "display_data",
          "data": {
            "image/png": "[encoded data removed]",
            "text/plain": [
              "<Figure size 720x504 with 1 Axes>"
            ]
          },
          "metadata": {
            "needs_background": "light"
          }
        }
      ]
    },
    {
      "cell_type": "markdown",
      "metadata": {
        "id": "saLgsYMBDZ-h"
      },
      "source": [
        "**Wiek badanych**"
      ]
    },
    {
      "cell_type": "markdown",
      "metadata": {
        "id": "21otLg2G-OIW"
      },
      "source": [
        "Możemy zobaczyć, że badania zostały przeprowadzone na bardzo szerokiej grupie ludzi w wieku od niemowląt do 82 lat. Nie można powiedzieć, że jakiś przedział  grup ma dużą przewagę liczebną. Od wartości 0 do około 55 można zaobserwować  delikatny wzrost liczebności ludzi, po czym obserwujemy niewielki spadek."
      ]
    },
    {
      "cell_type": "code",
      "metadata": {
        "colab": {
          "base_uri": "https://localhost:8080/"
        },
        "id": "D8DhfMQq-mJE",
        "outputId": "014a5870-4f76-4c00-db57-1e8236d7ef7c"
      },
      "source": [
        "print(stroke['age'].describe())"
      ],
      "execution_count": null,
      "outputs": [
        {
          "output_type": "stream",
          "name": "stdout",
          "text": [
            "count    4909.000000\n",
            "mean       42.865374\n",
            "std        22.555115\n",
            "min         0.080000\n",
            "25%        25.000000\n",
            "50%        44.000000\n",
            "75%        60.000000\n",
            "max        82.000000\n",
            "Name: age, dtype: float64\n"
          ]
        }
      ]
    },
    {
      "cell_type": "code",
      "metadata": {
        "colab": {
          "base_uri": "https://localhost:8080/",
          "height": 623
        },
        "id": "qAoSgG16-ARQ",
        "outputId": "77f5b980-12d2-4b80-a412-10ada27196b5"
      },
      "source": [
        "plt.figure(figsize=(20,10))\n",
        "df_numeric = stroke.select_dtypes(include='number')\n",
        "df_numeric\n",
        "sns.histplot(df_numeric['age'], bins=82, kde=True)"
      ],
      "execution_count": null,
      "outputs": [
        {
          "output_type": "execute_result",
          "data": {
            "text/plain": [
              "<matplotlib.axes._subplots.AxesSubplot at 0x7fced42e2090>"
            ]
          },
          "metadata": {},
          "execution_count": 45
        },
        {
          "output_type": "display_data",
          "data": {
            "image/png": "[encoded data removed]",
            "text/plain": [
              "<Figure size 1440x720 with 1 Axes>"
            ]
          },
          "metadata": {
            "needs_background": "light"
          }
        }
      ]
    },
    {
      "cell_type": "markdown",
      "metadata": {
        "id": "Ff3TKwJIDf1N"
      },
      "source": [
        "**Płeć badanych**"
      ]
    },
    {
      "cell_type": "markdown",
      "metadata": {
        "id": "xbuCyHnUBqNI"
      },
      "source": [
        "Jeśli chodzi o płeć to można stwierdzić, że w badaniach wzięło udział o około 1/3 mniej mężczyzn niż kobiet. Jeśli chodzi o osoby indetyfikujące się inaczej, to była tylko jedna taka badana osoba."
      ]
    },
    {
      "cell_type": "code",
      "metadata": {
        "colab": {
          "base_uri": "https://localhost:8080/"
        },
        "id": "yapSa9vHCS4D",
        "outputId": "66aedcb9-5d65-48b8-b35f-d669229234b2"
      },
      "source": [
        "print(gender_mapping)"
      ],
      "execution_count": null,
      "outputs": [
        {
          "output_type": "stream",
          "name": "stdout",
          "text": [
            "{'Female': 0, 'Male': 1, 'Other': 2}\n"
          ]
        }
      ]
    },
    {
      "cell_type": "code",
      "metadata": {
        "colab": {
          "base_uri": "https://localhost:8080/"
        },
        "id": "rQJxM91wC_R9",
        "outputId": "9bfb4680-e5c2-45df-bb63-0456e94af5d7"
      },
      "source": [
        "print(stroke['gender'].value_counts())"
      ],
      "execution_count": null,
      "outputs": [
        {
          "output_type": "stream",
          "name": "stdout",
          "text": [
            "0    2897\n",
            "1    2011\n",
            "2       1\n",
            "Name: gender, dtype: int64\n"
          ]
        }
      ]
    },
    {
      "cell_type": "code",
      "metadata": {
        "colab": {
          "base_uri": "https://localhost:8080/",
          "height": 459
        },
        "id": "DNEMK8JaAcsn",
        "outputId": "0d334c08-e552-48bb-d0c9-256903f71ad1"
      },
      "source": [
        "plt.figure(figsize=(10,7))\n",
        "sns.countplot(x = 'gender',\n",
        "              data = df_numeric,\n",
        "              order = df_numeric['gender'].value_counts().index)"
      ],
      "execution_count": null,
      "outputs": [
        {
          "output_type": "execute_result",
          "data": {
            "text/plain": [
              "<matplotlib.axes._subplots.AxesSubplot at 0x7fced212a090>"
            ]
          },
          "metadata": {},
          "execution_count": 48
        },
        {
          "output_type": "display_data",
          "data": {
            "image/png": "[encoded data removed]",
            "text/plain": [
              "<Figure size 720x504 with 1 Axes>"
            ]
          },
          "metadata": {
            "needs_background": "light"
          }
        }
      ]
    },
    {
      "cell_type": "markdown",
      "metadata": {
        "id": "k13BW9FPDjB1"
      },
      "source": [
        "**Zależność statusu palacza od udaru**"
      ]
    },
    {
      "cell_type": "markdown",
      "metadata": {
        "id": "MvA-jCnOFStd"
      },
      "source": [
        "Z wykresu widać, że osoby, które miały udar w dużej mierze znajdują się w grupach osób, które rzuciły palenie bądź osób nigdy nie palących. Na tej podstawie trudno więc stwierdzić, w jaki sposób palenie wpływa na udar."
      ]
    },
    {
      "cell_type": "code",
      "metadata": {
        "colab": {
          "base_uri": "https://localhost:8080/"
        },
        "id": "a_wVl6SOFKmX",
        "outputId": "d1f550f9-680c-4c90-dc83-54712c78e713"
      },
      "source": [
        "print(smoking_status_mapping)"
      ],
      "execution_count": null,
      "outputs": [
        {
          "output_type": "stream",
          "name": "stdout",
          "text": [
            "{'Unknown': 0, 'formerly smoked': 1, 'never smoked': 2, 'smokes': 3}\n"
          ]
        }
      ]
    },
    {
      "cell_type": "code",
      "metadata": {
        "colab": {
          "base_uri": "https://localhost:8080/",
          "height": 623
        },
        "id": "HjCRSJZFDX2i",
        "outputId": "8650b011-390e-4480-c712-24ae750d3ddb"
      },
      "source": [
        "plt.figure(figsize=(15,10))\n",
        "sns.boxplot(x=\"stroke\", y=\"smoking_status\", data=stroke)"
      ],
      "execution_count": null,
      "outputs": [
        {
          "output_type": "execute_result",
          "data": {
            "text/plain": [
              "<matplotlib.axes._subplots.AxesSubplot at 0x7fced4490c50>"
            ]
          },
          "metadata": {},
          "execution_count": 50
        },
        {
          "output_type": "display_data",
          "data": {
            "image/png": "[encoded data removed]",
            "text/plain": [
              "<Figure size 1080x720 with 1 Axes>"
            ]
          },
          "metadata": {
            "needs_background": "light"
          }
        }
      ]
    },
    {
      "cell_type": "markdown",
      "metadata": {
        "id": "ALxFjgFtL9p2"
      },
      "source": [
        " **Zależność wieku od udaru**"
      ]
    },
    {
      "cell_type": "markdown",
      "metadata": {
        "id": "qhrZmbFkMPZK"
      },
      "source": [
        "Można zobaczyć, że większa częśc ludzi po udarze to osoby w wieku od około 55 do 82 lat.Poniżej tych wartości znajdują się również mniej liczne przypadki w zakresie ok 55-35 oraz osobny przypadek poniżej 20 roku życia."
      ]
    },
    {
      "cell_type": "code",
      "metadata": {
        "colab": {
          "base_uri": "https://localhost:8080/",
          "height": 384
        },
        "id": "A3EB884wHqGA",
        "outputId": "c6e6300f-56b0-4003-814d-bf2507ed79cc"
      },
      "source": [
        "sns.distplot(stroke.loc[stroke['stroke'] == 0]['age'],kde=False, norm_hist=True, bins=20)\n",
        "sns.distplot(stroke.loc[stroke['stroke'] == 1]['age'],kde=False, norm_hist=True, bins=20)"
      ],
      "execution_count": null,
      "outputs": [
        {
          "output_type": "stream",
          "name": "stderr",
          "text": [
            "/usr/local/lib/python3.7/dist-packages/seaborn/distributions.py:2619: FutureWarning: `distplot` is a deprecated function and will be removed in a future version. Please adapt your code to use either `displot` (a figure-level function with similar flexibility) or `histplot` (an axes-level function for histograms).\n",
            "  warnings.warn(msg, FutureWarning)\n",
            "/usr/local/lib/python3.7/dist-packages/seaborn/distributions.py:2619: FutureWarning: `distplot` is a deprecated function and will be removed in a future version. Please adapt your code to use either `displot` (a figure-level function with similar flexibility) or `histplot` (an axes-level function for histograms).\n",
            "  warnings.warn(msg, FutureWarning)\n"
          ]
        },
        {
          "output_type": "execute_result",
          "data": {
            "text/plain": [
              "<matplotlib.axes._subplots.AxesSubplot at 0x7fced4ab9b50>"
            ]
          },
          "metadata": {},
          "execution_count": 51
        },
        {
          "output_type": "display_data",
          "data": {
            "image/png": "[encoded data removed]",
            "text/plain": [
              "<Figure size 432x288 with 1 Axes>"
            ]
          },
          "metadata": {
            "needs_background": "light"
          }
        }
      ]
    },
    {
      "cell_type": "markdown",
      "metadata": {
        "id": "O5UEJp_lSW21"
      },
      "source": [
        "**Zależność BMI od udaru**"
      ]
    },
    {
      "cell_type": "code",
      "metadata": {
        "colab": {
          "base_uri": "https://localhost:8080/",
          "height": 547
        },
        "id": "JtcFyWAXSR_j",
        "outputId": "2c5db9ee-c51e-4fba-aa69-2c2f126b5a65"
      },
      "source": [
        "plt.figure(figsize=(7,7))\n",
        "sns.distplot(stroke[stroke['stroke'] == 0]['bmi'],color='green')\n",
        "sns.distplot(stroke[stroke['stroke'] == 1]['bmi'],color='red')"
      ],
      "execution_count": null,
      "outputs": [
        {
          "output_type": "stream",
          "name": "stderr",
          "text": [
            "/usr/local/lib/python3.7/dist-packages/seaborn/distributions.py:2619: FutureWarning: `distplot` is a deprecated function and will be removed in a future version. Please adapt your code to use either `displot` (a figure-level function with similar flexibility) or `histplot` (an axes-level function for histograms).\n",
            "  warnings.warn(msg, FutureWarning)\n",
            "/usr/local/lib/python3.7/dist-packages/seaborn/distributions.py:2619: FutureWarning: `distplot` is a deprecated function and will be removed in a future version. Please adapt your code to use either `displot` (a figure-level function with similar flexibility) or `histplot` (an axes-level function for histograms).\n",
            "  warnings.warn(msg, FutureWarning)\n"
          ]
        },
        {
          "output_type": "execute_result",
          "data": {
            "text/plain": [
              "<matplotlib.axes._subplots.AxesSubplot at 0x7fced480c450>"
            ]
          },
          "metadata": {},
          "execution_count": 52
        },
        {
          "output_type": "display_data",
          "data": {
            "image/png": "[encoded data removed]",
            "text/plain": [
              "<Figure size 504x504 with 1 Axes>"
            ]
          },
          "metadata": {
            "needs_background": "light"
          }
        }
      ]
    },
    {
      "cell_type": "markdown",
      "metadata": {
        "id": "CHkzkEqfSm0e"
      },
      "source": [
        "**Zależność glukozy od udaru**"
      ]
    },
    {
      "cell_type": "code",
      "metadata": {
        "colab": {
          "base_uri": "https://localhost:8080/",
          "height": 711
        },
        "id": "n8n1syqKSgme",
        "outputId": "cbd33f8e-dcca-41f7-8399-556bc59b70aa"
      },
      "source": [
        "plt.figure(figsize=(12,10))\n",
        "sns.distplot(stroke[stroke['stroke'] == 0]['avg_glucose_level'],color='green')\n",
        "sns.distplot(stroke[stroke['stroke'] == 1]['avg_glucose_level'],color='red')\n",
        "plt.xlim([20,300])"
      ],
      "execution_count": null,
      "outputs": [
        {
          "output_type": "stream",
          "name": "stderr",
          "text": [
            "/usr/local/lib/python3.7/dist-packages/seaborn/distributions.py:2619: FutureWarning: `distplot` is a deprecated function and will be removed in a future version. Please adapt your code to use either `displot` (a figure-level function with similar flexibility) or `histplot` (an axes-level function for histograms).\n",
            "  warnings.warn(msg, FutureWarning)\n",
            "/usr/local/lib/python3.7/dist-packages/seaborn/distributions.py:2619: FutureWarning: `distplot` is a deprecated function and will be removed in a future version. Please adapt your code to use either `displot` (a figure-level function with similar flexibility) or `histplot` (an axes-level function for histograms).\n",
            "  warnings.warn(msg, FutureWarning)\n"
          ]
        },
        {
          "output_type": "execute_result",
          "data": {
            "text/plain": [
              "(20.0, 300.0)"
            ]
          },
          "metadata": {},
          "execution_count": 53
        },
        {
          "output_type": "display_data",
          "data": {
            "image/png": "[encoded data removed]",
            "text/plain": [
              "<Figure size 864x720 with 1 Axes>"
            ]
          },
          "metadata": {
            "needs_background": "light"
          }
        }
      ]
    },
    {
      "cell_type": "markdown",
      "metadata": {
        "id": "xy5nHvuZNp2X"
      },
      "source": [
        "## **Utworzenie klasyfikatora z wykorzystaniem XGBoost**"
      ]
    },
    {
      "cell_type": "code",
      "metadata": {
        "id": "yjK3W-rDOHIQ"
      },
      "source": [
        "# feature selection\n",
        "feature_cols = ['gender', 'age', 'hypertension', 'heart_disease', 'work_type', 'Residence_type', 'avg_glucose_level', 'bmi', 'smoking_status']\n",
        "x = stroke[feature_cols]\n",
        "y = stroke.stroke\n",
        "\n",
        "# splitting the data into traing and test set\n",
        "from sklearn.model_selection import train_test_split\n",
        "X_train, X_test, Y_train, Y_test = train_test_split(x, y, test_size = 0.2, random_state=0)"
      ],
      "execution_count": null,
      "outputs": []
    },
    {
      "cell_type": "code",
      "metadata": {
        "colab": {
          "base_uri": "https://localhost:8080/"
        },
        "id": "MqEpqpavUYwq",
        "outputId": "d99cad18-222c-4a29-de67-09985abaf304"
      },
      "source": [
        "from xgboost import XGBClassifier\n",
        "from sklearn.metrics import accuracy_score, confusion_matrix\n",
        "\n",
        "XGB = XGBClassifier(\n",
        "    base_score = np.mean(Y_train),\n",
        "    learning_rate = 0.1,\n",
        "    nrounds = 100,\n",
        "    max_delta_step = 1,\n",
        "    n_estimators = 100,\n",
        "    max_depth = 10,\n",
        "    reg_lambda = 1,\n",
        "    reg_alpha = 1,\n",
        "    eta = 1,\n",
        "    gamma = 1,\n",
        "    colsample_bylevel = 1,\n",
        "    colsample_bytree = 1,\n",
        "    min_child_weight = 1,\n",
        "    random_state = 10,\n",
        "    scale_pos_weight = 10,\n",
        "    seed=10\n",
        ")\n",
        "\n",
        "XGB.fit(X_train, Y_train)\n",
        "predicted_values_XGB = XGB.predict(X_test)\n",
        "\n",
        "print('XGBoost Accuracy_score: ',accuracy_score(Y_test, predicted_values_XGB))\n",
        "print('XGBoost confusion_matrix: \\n', confusion_matrix(predicted_values_XGB, Y_test))\n"
      ],
      "execution_count": null,
      "outputs": [
        {
          "output_type": "stream",
          "name": "stdout",
          "text": [
            "XGBoost Accuracy_score:  0.9236252545824847\n",
            "XGBoost confusion_matrix: \n",
            " [[901  37]\n",
            " [ 38   6]]\n"
          ]
        }
      ]
    },
    {
      "cell_type": "markdown",
      "metadata": {
        "id": "0dSrSE64XxLh"
      },
      "source": [
        "### **Strojenie**"
      ]
    },
    {
      "cell_type": "markdown",
      "metadata": {
        "id": "62U_gcQawMlM"
      },
      "source": [
        "Po ręcznym dostrojeniu modelu accuracy wzrosło o około 3,56%. Pomimo prób zmiany różnych parametrów był to najlepszy uzyskany wynik.\n"
      ]
    },
    {
      "cell_type": "code",
      "metadata": {
        "colab": {
          "base_uri": "https://localhost:8080/"
        },
        "id": "sMiPudUCXwf_",
        "outputId": "5637c453-a21a-4634-98d9-c42d29e3c97d"
      },
      "source": [
        "XGB = XGBClassifier(\n",
        "    base_score = 0.5,\n",
        "    learning_rate = 0.1,\n",
        "    nrounds = 4000,\n",
        "    max_delta_step = 0,\n",
        "    max_depth = 7,\n",
        "    reg_alpha=0,\n",
        "    eta = 0,\n",
        "    gamma = 0,\n",
        "    colsample_bylevel = 0.7,\n",
        "    colsample_bytree = 0.7,\n",
        "    min_child_weight = 0,\n",
        "    random_state = 0,\n",
        "    subsample = 0.5,\n",
        "    seed=0\n",
        ")\n",
        "\n",
        "XGB.fit(X_train, Y_train)\n",
        "predicted_values_XGB = XGB.predict(X_test)\n",
        "\n",
        "print('XGBoost Accuracy_score: ',accuracy_score(Y_test, predicted_values_XGB))\n",
        "print('XGBoost confusion_matrix: \\n', confusion_matrix(predicted_values_XGB, Y_test))"
      ],
      "execution_count": null,
      "outputs": [
        {
          "output_type": "stream",
          "name": "stdout",
          "text": [
            "XGBoost Accuracy_score:  0.9592668024439919\n",
            "XGBoost confusion_matrix: \n",
            " [[939  40]\n",
            " [  0   3]]\n"
          ]
        }
      ]
    },
    {
      "cell_type": "markdown",
      "metadata": {
        "id": "jj-yOu77M4wA"
      },
      "source": [
        "## **Zadanie dodatkowe**"
      ]
    },
    {
      "cell_type": "markdown",
      "metadata": {
        "id": "cFRFVeVyM1HS"
      },
      "source": [
        "Dla dobranych ręcznie parametrów klasyfikatora XGBoost zbudowane zostaną 2 oddzielne klasyfikatory dla kobiet i mężczyzn w celu porównania uzyskanych wyników."
      ]
    },
    {
      "cell_type": "code",
      "metadata": {
        "colab": {
          "base_uri": "https://localhost:8080/"
        },
        "id": "uMC1_QIJQO2o",
        "outputId": "d6610aa6-5ce7-4ab7-d292-dba95d46e291"
      },
      "source": [
        "print(gender_mapping)"
      ],
      "execution_count": null,
      "outputs": [
        {
          "output_type": "stream",
          "name": "stdout",
          "text": [
            "{'Female': 0, 'Male': 1, 'Other': 2}\n"
          ]
        }
      ]
    },
    {
      "cell_type": "code",
      "metadata": {
        "id": "2Wb5xeApNBsn"
      },
      "source": [
        "stroke_female = stroke[stroke['gender'] == 0]\n",
        "stroke_male = stroke[stroke['gender'] == 1]"
      ],
      "execution_count": null,
      "outputs": []
    },
    {
      "cell_type": "code",
      "metadata": {
        "colab": {
          "base_uri": "https://localhost:8080/",
          "height": 202
        },
        "id": "SdTDoeX2QH1q",
        "outputId": "79bbda24-b041-49cc-a874-2de9ba9431fb"
      },
      "source": [
        "stroke_female.head()"
      ],
      "execution_count": null,
      "outputs": [
        {
          "output_type": "execute_result",
          "data": {
            "text/html": [
              "<div>\n",
              "<style scoped>\n",
              "    .dataframe tbody tr th:only-of-type {\n",
              "        vertical-align: middle;\n",
              "    }\n",
              "\n",
              "    .dataframe tbody tr th {\n",
              "        vertical-align: top;\n",
              "    }\n",
              "\n",
              "    .dataframe thead th {\n",
              "        text-align: right;\n",
              "    }\n",
              "</style>\n",
              "<table border=\"1\" class=\"dataframe\">\n",
              "  <thead>\n",
              "    <tr style=\"text-align: right;\">\n",
              "      <th></th>\n",
              "      <th>gender</th>\n",
              "      <th>age</th>\n",
              "      <th>hypertension</th>\n",
              "      <th>heart_disease</th>\n",
              "      <th>ever_married</th>\n",
              "      <th>work_type</th>\n",
              "      <th>Residence_type</th>\n",
              "      <th>avg_glucose_level</th>\n",
              "      <th>bmi</th>\n",
              "      <th>smoking_status</th>\n",
              "      <th>stroke</th>\n",
              "    </tr>\n",
              "  </thead>\n",
              "  <tbody>\n",
              "    <tr>\n",
              "      <th>3</th>\n",
              "      <td>0</td>\n",
              "      <td>49.0</td>\n",
              "      <td>0</td>\n",
              "      <td>0</td>\n",
              "      <td>1</td>\n",
              "      <td>2</td>\n",
              "      <td>1</td>\n",
              "      <td>171.23</td>\n",
              "      <td>34.4</td>\n",
              "      <td>3</td>\n",
              "      <td>1</td>\n",
              "    </tr>\n",
              "    <tr>\n",
              "      <th>4</th>\n",
              "      <td>0</td>\n",
              "      <td>79.0</td>\n",
              "      <td>1</td>\n",
              "      <td>0</td>\n",
              "      <td>1</td>\n",
              "      <td>3</td>\n",
              "      <td>0</td>\n",
              "      <td>174.12</td>\n",
              "      <td>24.0</td>\n",
              "      <td>2</td>\n",
              "      <td>1</td>\n",
              "    </tr>\n",
              "    <tr>\n",
              "      <th>7</th>\n",
              "      <td>0</td>\n",
              "      <td>69.0</td>\n",
              "      <td>0</td>\n",
              "      <td>0</td>\n",
              "      <td>0</td>\n",
              "      <td>2</td>\n",
              "      <td>1</td>\n",
              "      <td>94.39</td>\n",
              "      <td>22.8</td>\n",
              "      <td>2</td>\n",
              "      <td>1</td>\n",
              "    </tr>\n",
              "    <tr>\n",
              "      <th>9</th>\n",
              "      <td>0</td>\n",
              "      <td>78.0</td>\n",
              "      <td>0</td>\n",
              "      <td>0</td>\n",
              "      <td>1</td>\n",
              "      <td>2</td>\n",
              "      <td>1</td>\n",
              "      <td>58.57</td>\n",
              "      <td>24.2</td>\n",
              "      <td>0</td>\n",
              "      <td>1</td>\n",
              "    </tr>\n",
              "    <tr>\n",
              "      <th>10</th>\n",
              "      <td>0</td>\n",
              "      <td>81.0</td>\n",
              "      <td>1</td>\n",
              "      <td>0</td>\n",
              "      <td>1</td>\n",
              "      <td>2</td>\n",
              "      <td>0</td>\n",
              "      <td>80.43</td>\n",
              "      <td>29.7</td>\n",
              "      <td>2</td>\n",
              "      <td>1</td>\n",
              "    </tr>\n",
              "  </tbody>\n",
              "</table>\n",
              "</div>"
            ],
            "text/plain": [
              "    gender   age  hypertension  ...   bmi  smoking_status  stroke\n",
              "3        0  49.0             0  ...  34.4               3       1\n",
              "4        0  79.0             1  ...  24.0               2       1\n",
              "7        0  69.0             0  ...  22.8               2       1\n",
              "9        0  78.0             0  ...  24.2               0       1\n",
              "10       0  81.0             1  ...  29.7               2       1\n",
              "\n",
              "[5 rows x 11 columns]"
            ]
          },
          "metadata": {},
          "execution_count": 23
        }
      ]
    },
    {
      "cell_type": "code",
      "metadata": {
        "colab": {
          "base_uri": "https://localhost:8080/",
          "height": 202
        },
        "id": "119L_0hKQV-s",
        "outputId": "c14986f4-a28e-4826-e1dd-ed06e4e96bee"
      },
      "source": [
        "stroke_male.head()"
      ],
      "execution_count": null,
      "outputs": [
        {
          "output_type": "execute_result",
          "data": {
            "text/html": [
              "<div>\n",
              "<style scoped>\n",
              "    .dataframe tbody tr th:only-of-type {\n",
              "        vertical-align: middle;\n",
              "    }\n",
              "\n",
              "    .dataframe tbody tr th {\n",
              "        vertical-align: top;\n",
              "    }\n",
              "\n",
              "    .dataframe thead th {\n",
              "        text-align: right;\n",
              "    }\n",
              "</style>\n",
              "<table border=\"1\" class=\"dataframe\">\n",
              "  <thead>\n",
              "    <tr style=\"text-align: right;\">\n",
              "      <th></th>\n",
              "      <th>gender</th>\n",
              "      <th>age</th>\n",
              "      <th>hypertension</th>\n",
              "      <th>heart_disease</th>\n",
              "      <th>ever_married</th>\n",
              "      <th>work_type</th>\n",
              "      <th>Residence_type</th>\n",
              "      <th>avg_glucose_level</th>\n",
              "      <th>bmi</th>\n",
              "      <th>smoking_status</th>\n",
              "      <th>stroke</th>\n",
              "    </tr>\n",
              "  </thead>\n",
              "  <tbody>\n",
              "    <tr>\n",
              "      <th>0</th>\n",
              "      <td>1</td>\n",
              "      <td>67.0</td>\n",
              "      <td>0</td>\n",
              "      <td>1</td>\n",
              "      <td>1</td>\n",
              "      <td>2</td>\n",
              "      <td>1</td>\n",
              "      <td>228.69</td>\n",
              "      <td>36.6</td>\n",
              "      <td>1</td>\n",
              "      <td>1</td>\n",
              "    </tr>\n",
              "    <tr>\n",
              "      <th>2</th>\n",
              "      <td>1</td>\n",
              "      <td>80.0</td>\n",
              "      <td>0</td>\n",
              "      <td>1</td>\n",
              "      <td>1</td>\n",
              "      <td>2</td>\n",
              "      <td>0</td>\n",
              "      <td>105.92</td>\n",
              "      <td>32.5</td>\n",
              "      <td>2</td>\n",
              "      <td>1</td>\n",
              "    </tr>\n",
              "    <tr>\n",
              "      <th>5</th>\n",
              "      <td>1</td>\n",
              "      <td>81.0</td>\n",
              "      <td>0</td>\n",
              "      <td>0</td>\n",
              "      <td>1</td>\n",
              "      <td>2</td>\n",
              "      <td>1</td>\n",
              "      <td>186.21</td>\n",
              "      <td>29.0</td>\n",
              "      <td>1</td>\n",
              "      <td>1</td>\n",
              "    </tr>\n",
              "    <tr>\n",
              "      <th>6</th>\n",
              "      <td>1</td>\n",
              "      <td>74.0</td>\n",
              "      <td>1</td>\n",
              "      <td>1</td>\n",
              "      <td>1</td>\n",
              "      <td>2</td>\n",
              "      <td>0</td>\n",
              "      <td>70.09</td>\n",
              "      <td>27.4</td>\n",
              "      <td>2</td>\n",
              "      <td>1</td>\n",
              "    </tr>\n",
              "    <tr>\n",
              "      <th>16</th>\n",
              "      <td>1</td>\n",
              "      <td>64.0</td>\n",
              "      <td>0</td>\n",
              "      <td>1</td>\n",
              "      <td>1</td>\n",
              "      <td>2</td>\n",
              "      <td>1</td>\n",
              "      <td>191.61</td>\n",
              "      <td>37.5</td>\n",
              "      <td>3</td>\n",
              "      <td>1</td>\n",
              "    </tr>\n",
              "  </tbody>\n",
              "</table>\n",
              "</div>"
            ],
            "text/plain": [
              "    gender   age  hypertension  ...   bmi  smoking_status  stroke\n",
              "0        1  67.0             0  ...  36.6               1       1\n",
              "2        1  80.0             0  ...  32.5               2       1\n",
              "5        1  81.0             0  ...  29.0               1       1\n",
              "6        1  74.0             1  ...  27.4               2       1\n",
              "16       1  64.0             0  ...  37.5               3       1\n",
              "\n",
              "[5 rows x 11 columns]"
            ]
          },
          "metadata": {},
          "execution_count": 24
        }
      ]
    },
    {
      "cell_type": "markdown",
      "metadata": {
        "id": "P5WMbluxRD9v"
      },
      "source": [
        "### **Utworzenie klasyfikatora**"
      ]
    },
    {
      "cell_type": "code",
      "metadata": {
        "id": "a6D-HJXbRIzC"
      },
      "source": [
        "# feature selection\n",
        "feature_cols = ['age', 'hypertension', 'heart_disease', 'work_type', 'Residence_type', 'avg_glucose_level', 'bmi', 'smoking_status']\n",
        "x_female = stroke_female[feature_cols]\n",
        "y_female = stroke_female.stroke\n",
        "\n",
        "x_male = stroke_male[feature_cols]\n",
        "y_male = stroke_male.stroke\n",
        "\n",
        "# splitting the data into traing and test set\n",
        "X_train_female, X_test_female, Y_train_female, Y_test_female = train_test_split(x_female, y_female, test_size = 0.2, random_state=0)\n",
        "X_train_male, X_test_male, Y_train_male, Y_test_male = train_test_split(x_male, y_male, test_size = 0.2, random_state=0)"
      ],
      "execution_count": null,
      "outputs": []
    },
    {
      "cell_type": "markdown",
      "metadata": {
        "id": "VHkaDX_ZS--t"
      },
      "source": [
        "**Dla kobiet**"
      ]
    },
    {
      "cell_type": "code",
      "metadata": {
        "colab": {
          "base_uri": "https://localhost:8080/"
        },
        "id": "HzndhBZfSrbT",
        "outputId": "439f48e4-769a-41a9-f031-1a9e17660332"
      },
      "source": [
        "XGB = XGBClassifier(\n",
        "    base_score = 0.5,\n",
        "    learning_rate = 0.1,\n",
        "    nrounds = 4000,\n",
        "    max_delta_step = 0,\n",
        "    max_depth = 7,\n",
        "    reg_alpha=0,\n",
        "    eta = 0,\n",
        "    gamma = 0,\n",
        "    colsample_bylevel = 0.7,\n",
        "    colsample_bytree = 0.7,\n",
        "    min_child_weight = 0,\n",
        "    random_state = 0,\n",
        "    subsample = 0.5,\n",
        "    seed=0\n",
        ")\n",
        "\n",
        "XGB.fit(X_train_female, Y_train_female)\n",
        "predicted_values_XGB_female = XGB.predict(X_test_female)\n",
        "\n",
        "print('XGBoost Accuracy_score: ',accuracy_score(Y_test_female, predicted_values_XGB_female))\n",
        "print('XGBoost confusion_matrix: \\n', confusion_matrix(predicted_values_XGB_female, Y_test_female))"
      ],
      "execution_count": null,
      "outputs": [
        {
          "output_type": "stream",
          "name": "stdout",
          "text": [
            "XGBoost Accuracy_score:  0.9603448275862069\n",
            "XGBoost confusion_matrix: \n",
            " [[557  22]\n",
            " [  1   0]]\n"
          ]
        }
      ]
    },
    {
      "cell_type": "markdown",
      "metadata": {
        "id": "kf9gbirjTEYw"
      },
      "source": [
        "**Dla mężczyzn**"
      ]
    },
    {
      "cell_type": "code",
      "metadata": {
        "colab": {
          "base_uri": "https://localhost:8080/"
        },
        "id": "DcGJPlOVS7p6",
        "outputId": "10bf9854-8305-49c8-b7d6-ec298b6a3df4"
      },
      "source": [
        "XGB.fit(X_train_male, Y_train_male)\n",
        "predicted_values_XGB_male = XGB.predict(X_test_male)\n",
        "\n",
        "print('XGBoost Accuracy_score: ',accuracy_score(Y_test_male, predicted_values_XGB_male))\n",
        "print('XGBoost confusion_matrix: \\n', confusion_matrix(predicted_values_XGB_male, Y_test_male))"
      ],
      "execution_count": null,
      "outputs": [
        {
          "output_type": "stream",
          "name": "stdout",
          "text": [
            "XGBoost Accuracy_score:  0.9330024813895782\n",
            "XGBoost confusion_matrix: \n",
            " [[375  26]\n",
            " [  1   1]]\n"
          ]
        }
      ]
    },
    {
      "cell_type": "markdown",
      "metadata": {
        "id": "0EDlY8iwTThz"
      },
      "source": [
        "Jak można zauważyć, wyniki nieznacznie się różnią (2,73%). Dla kobiet wynik accuracy jest lepszy i osiąga około 96,03%. Dla mężczyzn jest to 93,30%. Różnica może wynikać między innymi z tego, że w badaniu wzięło udział o 886 więcej kobiet niż mężczyzn. Kolejną przyczyną może być to, że kobiet po udarze było w tym gronie więcej niż mężczyzn, co po nauce modelu przełożyło się na większe accuracy."
      ]
    },
    {
      "cell_type": "code",
      "metadata": {
        "colab": {
          "base_uri": "https://localhost:8080/"
        },
        "id": "cIocYbr1TtGI",
        "outputId": "32b0e398-7e0d-40ae-8b90-2ec2651a619f"
      },
      "source": [
        "--print(stroke['gender'].value_counts())"
      ],
      "execution_count": null,
      "outputs": [
        {
          "output_type": "stream",
          "name": "stdout",
          "text": [
            "0    2897\n",
            "1    2011\n",
            "2       1\n",
            "Name: gender, dtype: int64\n"
          ]
        }
      ]
    },
    {
      "cell_type": "code",
      "source": [
        "!pip list"
      ],
      "metadata": {
        "id": "TOYDGkLt7keF"
      },
      "execution_count": null,
      "outputs": []
    },
    {
      "cell_type": "code",
      "metadata": {
        "colab": {
          "base_uri": "https://localhost:8080/",
          "height": 386
        },
        "id": "J_SoCQwgWbKj",
        "outputId": "c3b2db9c-2410-4632-bad1-0d6a335d4d46"
      },
      "source": [
        "sns.catplot(x='gender',kind='count',col='stroke',data=stroke)"
      ],
      "execution_count": null,
      "outputs": [
        {
          "output_type": "execute_result",
          "data": {
            "text/plain": [
              "<seaborn.axisgrid.FacetGrid at 0x7fcec3905590>"
            ]
          },
          "metadata": {},
          "execution_count": 81
        },
        {
          "output_type": "display_data",
          "data": {
            "image/png": "[encoded data removed]",
            "text/plain": [
              "<Figure size 720x360 with 2 Axes>"
            ]
          },
          "metadata": {
            "needs_background": "light"
          }
        }
      ]
    },
    {
      "cell_type": "markdown",
      "metadata": {
        "id": "IbL5WWXq-Y_T"
      },
      "source": [
        "### **Jak zadziała sieć nauczona na konkretnej płci na płeć przeciwną?**"
      ]
    },
    {
      "cell_type": "markdown",
      "metadata": {
        "id": "45jAhoX2BvFu"
      },
      "source": [
        "W związku z tym, że zbiory mają różne rozmiary, do przeprowadzenia doświadczenia w niektórych momentach trzeba będzie wziąść wybrane przedziały zbioru tak, aby zmieścił się w teście."
      ]
    },
    {
      "cell_type": "code",
      "metadata": {
        "colab": {
          "base_uri": "https://localhost:8080/"
        },
        "id": "J8gI9Fa_BxIM",
        "outputId": "90b2be13-8098-4f5a-8ad4-c8e9ad792861"
      },
      "source": [
        "print(Y_test_female.size)\n",
        "print(Y_test_male.size)"
      ],
      "execution_count": null,
      "outputs": [
        {
          "output_type": "stream",
          "name": "stdout",
          "text": [
            "580\n",
            "403\n"
          ]
        }
      ]
    },
    {
      "cell_type": "markdown",
      "metadata": {
        "id": "8yeq1fK3-lX-"
      },
      "source": [
        "**Użycie sieci nauczonej na datasecie kobiet na teście mężczyzn**"
      ]
    },
    {
      "cell_type": "markdown",
      "metadata": {
        "id": "4GG1DBM4DBNj"
      },
      "source": [
        "Testując dataset mężczyzn siecią kobiet można zauważyć spadek accuracy o  2,73% dla sieci."
      ]
    },
    {
      "cell_type": "code",
      "metadata": {
        "colab": {
          "base_uri": "https://localhost:8080/"
        },
        "id": "b_r2iieC-wmR",
        "outputId": "38892fad-cc26-4f83-c708-6da67e525a34"
      },
      "source": [
        "print('XGBoost Accuracy_score: ', accuracy_score(Y_test_male, predicted_values_XGB_female[:403]))\n",
        "print('XGBoost confusion_matrix: \\n', confusion_matrix(predicted_values_XGB_female[:403], Y_test_male))"
      ],
      "execution_count": null,
      "outputs": [
        {
          "output_type": "stream",
          "name": "stdout",
          "text": [
            "XGBoost Accuracy_score:  0.9330024813895782\n",
            "XGBoost confusion_matrix: \n",
            " [[376  27]\n",
            " [  0   0]]\n"
          ]
        }
      ]
    },
    {
      "cell_type": "markdown",
      "metadata": {
        "id": "IXmUVgkoBddZ"
      },
      "source": [
        "**Użycie sieci nauczonej na datasecie mężczyzn na teście kobiet**"
      ]
    },
    {
      "cell_type": "markdown",
      "metadata": {
        "id": "LqFaebDhCMmI"
      },
      "source": [
        "W tym przypadku sieć męższczyzn osiąga większe accuracy na teście kobiet o ok. 2,23% niż wykonując test mężczyzn."
      ]
    },
    {
      "cell_type": "code",
      "metadata": {
        "colab": {
          "base_uri": "https://localhost:8080/"
        },
        "id": "cj0GLNRIBW7O",
        "outputId": "c686ddeb-43aa-46c3-ab42-c086c45397c1"
      },
      "source": [
        "print('XGBoost Accuracy_score: ', accuracy_score(Y_test_female[:403], predicted_values_XGB_male))\n",
        "print('XGBoost confusion_matrix: \\n', confusion_matrix(predicted_values_XGB_male, Y_test_female[:403]))"
      ],
      "execution_count": null,
      "outputs": [
        {
          "output_type": "stream",
          "name": "stdout",
          "text": [
            "XGBoost Accuracy_score:  0.9553349875930521\n",
            "XGBoost confusion_matrix: \n",
            " [[385  16]\n",
            " [  2   0]]\n"
          ]
        }
      ]
    },
    {
      "cell_type": "markdown",
      "metadata": {
        "id": "c4JC3xMUECEz"
      },
      "source": [
        "Przy obu sieciach spadek accuracy w porównaniu do właściwych testów jest bardzo zbliżony. Można jednak wywnioskować, że test kobiet daje lepsze wyniki niż test męższczyzn, bez względu na sieć. Ponownie, może to być wynikiem większej liczby kobiet po udarze w datasecie."
      ]
    }
  ]
}