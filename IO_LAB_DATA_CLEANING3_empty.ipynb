{
  "nbformat": 4,
  "nbformat_minor": 0,
  "metadata": {
    "colab": {
      "provenance": [],
      "include_colab_link": true
    },
    "kernelspec": {
      "name": "python3",
      "display_name": "Python 3"
    }
  },
  "cells": [
    {
      "cell_type": "markdown",
      "metadata": {
        "id": "view-in-github",
        "colab_type": "text"
      },
      "source": [
        "<a href=\"https://colab.research.google.com/github/KuroiYoshiko/Datasets-analysis/blob/master/IO_LAB_DATA_CLEANING3_empty.ipynb\" target=\"_parent\"><img src=\"https://colab.research.google.com/assets/colab-badge.svg\" alt=\"Open In Colab\"/></a>"
      ]
    },
    {
      "cell_type": "markdown",
      "metadata": {
        "id": "IBx4aPiW3gL0"
      },
      "source": [
        "Import bibliotek\n",
        "Wczytanie danych -> ride_sharing_new5.csv"
      ]
    },
    {
      "cell_type": "code",
      "metadata": {
        "id": "8NYeO6xj3X52",
        "colab": {
          "resources": {
            "http://localhost:8080/nbextensions/google.colab/files.js": {
              "data": "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",
              "ok": true,
              "headers": [
                [
                  "content-type",
                  "application/javascript"
                ]
              ],
              "status": 200,
              "status_text": ""
            }
          },
          "base_uri": "https://localhost:8080/",
          "height": 72
        },
        "outputId": "38eeb9dd-bbed-42a3-a6b0-c0ae0fbab457"
      },
      "source": [
        "import pandas as pd\n",
        "import numpy as np\n",
        "import seaborn as sns\n",
        "\n",
        "from google.colab import files\n",
        "uploaded = files.upload()"
      ],
      "execution_count": null,
      "outputs": [
        {
          "output_type": "display_data",
          "data": {
            "text/html": [
              "\n",
              "     <input type=\"file\" id=\"files-fe97cdfe-e940-4f95-a83b-51206cc0433d\" name=\"files[]\" multiple disabled\n",
              "        style=\"border:none\" />\n",
              "     <output id=\"result-fe97cdfe-e940-4f95-a83b-51206cc0433d\">\n",
              "      Upload widget is only available when the cell has been executed in the\n",
              "      current browser session. Please rerun this cell to enable.\n",
              "      </output>\n",
              "      <script src=\"/nbextensions/google.colab/files.js\"></script> "
            ],
            "text/plain": [
              "<IPython.core.display.HTML object>"
            ]
          },
          "metadata": {}
        },
        {
          "output_type": "stream",
          "name": "stdout",
          "text": [
            "Saving ride_sharing_new5.csv to ride_sharing_new5.csv\n"
          ]
        }
      ]
    },
    {
      "cell_type": "markdown",
      "metadata": {
        "id": "WSUsgf5q3ibZ"
      },
      "source": [
        "Wyświetlenie danych"
      ]
    },
    {
      "cell_type": "code",
      "metadata": {
        "id": "7WCFR7aV3fXe",
        "colab": {
          "base_uri": "https://localhost:8080/",
          "height": 204
        },
        "outputId": "6d0bcff0-734c-4adc-e32b-5ea0c1ec8d42"
      },
      "source": [
        "ride_sharing = pd.read_csv(\"ride_sharing_new5.csv\", index_col=False)\n",
        "# Preview the first 5 lines of the loaded data\n",
        "ride_sharing.head()"
      ],
      "execution_count": null,
      "outputs": [
        {
          "output_type": "execute_result",
          "data": {
            "text/html": [
              "<div>\n",
              "<style scoped>\n",
              "    .dataframe tbody tr th:only-of-type {\n",
              "        vertical-align: middle;\n",
              "    }\n",
              "\n",
              "    .dataframe tbody tr th {\n",
              "        vertical-align: top;\n",
              "    }\n",
              "\n",
              "    .dataframe thead th {\n",
              "        text-align: right;\n",
              "    }\n",
              "</style>\n",
              "<table border=\"1\" class=\"dataframe\">\n",
              "  <thead>\n",
              "    <tr style=\"text-align: right;\">\n",
              "      <th></th>\n",
              "      <th>duration</th>\n",
              "      <th>station_A_id</th>\n",
              "      <th>station_A_name</th>\n",
              "      <th>station_B_id</th>\n",
              "      <th>station_B_name</th>\n",
              "      <th>bike_id</th>\n",
              "      <th>user_type</th>\n",
              "      <th>user_birth_year</th>\n",
              "      <th>user_gender</th>\n",
              "      <th>tire_size</th>\n",
              "      <th>ride_id</th>\n",
              "      <th>bike_color</th>\n",
              "    </tr>\n",
              "  </thead>\n",
              "  <tbody>\n",
              "    <tr>\n",
              "      <th>0</th>\n",
              "      <td>12 minutes</td>\n",
              "      <td>81</td>\n",
              "      <td>Berry St at 4th St</td>\n",
              "      <td>323</td>\n",
              "      <td>Broadway at Kearny</td>\n",
              "      <td>5480</td>\n",
              "      <td>2</td>\n",
              "      <td>1959</td>\n",
              "      <td>Male</td>\n",
              "      <td>27</td>\n",
              "      <td>1000</td>\n",
              "      <td>1000004.0</td>\n",
              "    </tr>\n",
              "    <tr>\n",
              "      <th>1</th>\n",
              "      <td>24 minutes</td>\n",
              "      <td>3</td>\n",
              "      <td>Powell St BART Station (Market St at 4th St)</td>\n",
              "      <td>118</td>\n",
              "      <td>Eureka Valley Recreation Center</td>\n",
              "      <td>5193</td>\n",
              "      <td>2</td>\n",
              "      <td>1965</td>\n",
              "      <td>Male</td>\n",
              "      <td>28</td>\n",
              "      <td>1001</td>\n",
              "      <td>NaN</td>\n",
              "    </tr>\n",
              "    <tr>\n",
              "      <th>2</th>\n",
              "      <td>8 minutes</td>\n",
              "      <td>67</td>\n",
              "      <td>San Francisco Caltrain Station 2  (Townsend St...</td>\n",
              "      <td>23</td>\n",
              "      <td>The Embarcadero at Steuart St</td>\n",
              "      <td>3652</td>\n",
              "      <td>3</td>\n",
              "      <td>1993</td>\n",
              "      <td>Male</td>\n",
              "      <td>25</td>\n",
              "      <td>1002</td>\n",
              "      <td>1000003.0</td>\n",
              "    </tr>\n",
              "    <tr>\n",
              "      <th>3</th>\n",
              "      <td>4 minutes</td>\n",
              "      <td>16</td>\n",
              "      <td>Steuart St at Market St</td>\n",
              "      <td>28</td>\n",
              "      <td>The Embarcadero at Bryant St</td>\n",
              "      <td>1883</td>\n",
              "      <td>1</td>\n",
              "      <td>1979</td>\n",
              "      <td>Male</td>\n",
              "      <td>27</td>\n",
              "      <td>1003</td>\n",
              "      <td>NaN</td>\n",
              "    </tr>\n",
              "    <tr>\n",
              "      <th>4</th>\n",
              "      <td>11 minutes</td>\n",
              "      <td>22</td>\n",
              "      <td>Howard St at Beale St</td>\n",
              "      <td>350</td>\n",
              "      <td>8th St at Brannan St</td>\n",
              "      <td>4626</td>\n",
              "      <td>2</td>\n",
              "      <td>1994</td>\n",
              "      <td>Male</td>\n",
              "      <td>27</td>\n",
              "      <td>1004</td>\n",
              "      <td>NaN</td>\n",
              "    </tr>\n",
              "  </tbody>\n",
              "</table>\n",
              "</div>"
            ],
            "text/plain": [
              "     duration  station_A_id  ... ride_id  bike_color\n",
              "0  12 minutes            81  ...    1000   1000004.0\n",
              "1  24 minutes             3  ...    1001         NaN\n",
              "2   8 minutes            67  ...    1002   1000003.0\n",
              "3   4 minutes            16  ...    1003         NaN\n",
              "4  11 minutes            22  ...    1004         NaN\n",
              "\n",
              "[5 rows x 12 columns]"
            ]
          },
          "metadata": {},
          "execution_count": 2
        }
      ]
    },
    {
      "cell_type": "code",
      "metadata": {
        "id": "jivVmCOSL-lG",
        "colab": {
          "base_uri": "https://localhost:8080/"
        },
        "outputId": "e19ead3d-28f2-4ccf-834b-905612770ca2"
      },
      "source": [
        "# Count missing data\n",
        "column_names = ride_sharing.columns\n",
        "counter = ride_sharing[column_names].isnull().sum()\n",
        "print (counter)"
      ],
      "execution_count": null,
      "outputs": [
        {
          "output_type": "stream",
          "name": "stdout",
          "text": [
            "duration            296\n",
            "station_A_id          0\n",
            "station_A_name        0\n",
            "station_B_id          0\n",
            "station_B_name        0\n",
            "bike_id               0\n",
            "user_type             0\n",
            "user_birth_year       0\n",
            "user_gender           0\n",
            "tire_size             0\n",
            "ride_id               0\n",
            "bike_color         5191\n",
            "dtype: int64\n"
          ]
        }
      ]
    },
    {
      "cell_type": "markdown",
      "metadata": {
        "id": "JdfhFCJbtr7_"
      },
      "source": [
        "Wyświetlenie brakujących danych"
      ]
    },
    {
      "cell_type": "code",
      "metadata": {
        "id": "2Ab4ShMAtyqz",
        "colab": {
          "base_uri": "https://localhost:8080/",
          "height": 544
        },
        "outputId": "0d6d4c2a-528f-46b5-c05e-3e2c96ad1b99"
      },
      "source": [
        "#HEATMAP\n",
        "\n",
        "cols = ride_sharing.columns[:30] # first 30 columns\n",
        "colours = ['#000099', '#ffff00'] # specify the colours - yellow is missing. blue is not missing.\n",
        "sns.heatmap(ride_sharing[cols].isnull(), cmap=sns.color_palette(colours))\n",
        "\n",
        "# or if it's a larger dataset and the visualization takes too long can do this.\n",
        "# % of missing.\n",
        "for col in ride_sharing.columns:\n",
        "    pct_missing = np.mean(ride_sharing[col].isnull())\n",
        "    print('{} - {}%'.format(col, round(pct_missing*100)))\n",
        "\n"
      ],
      "execution_count": null,
      "outputs": [
        {
          "output_type": "stream",
          "name": "stdout",
          "text": [
            "duration - 1%\n",
            "station_A_id - 0%\n",
            "station_A_name - 0%\n",
            "station_B_id - 0%\n",
            "station_B_name - 0%\n",
            "bike_id - 0%\n",
            "user_type - 0%\n",
            "user_birth_year - 0%\n",
            "user_gender - 0%\n",
            "tire_size - 0%\n",
            "ride_id - 0%\n",
            "bike_color - 20%\n"
          ]
        },
        {
          "output_type": "display_data",
          "data": {
            "image/png": "[encoded data removed]",
            "text/plain": [
              "<Figure size 432x288 with 2 Axes>"
            ]
          },
          "metadata": {
            "needs_background": "light"
          }
        }
      ]
    },
    {
      "cell_type": "code",
      "metadata": {
        "id": "tLfw_nKO5MT0",
        "colab": {
          "base_uri": "https://localhost:8080/",
          "height": 695
        },
        "outputId": "5737d9fe-783e-454a-a2ca-59627b9ab385"
      },
      "source": [
        "import missingno as msno\n",
        "import matplotlib.pyplot as plt\n",
        "\n",
        "msno.matrix(ride_sharing)\n",
        "plt.show()"
      ],
      "execution_count": null,
      "outputs": [
        {
          "output_type": "display_data",
          "data": {
            "image/png": "[encoded data removed]",
            "text/plain": [
              "<Figure size 1800x720 with 2 Axes>"
            ]
          },
          "metadata": {
            "needs_background": "light"
          }
        }
      ]
    },
    {
      "cell_type": "markdown",
      "metadata": {
        "id": "JHAUsecJ49Pj"
      },
      "source": [
        "Usunięcie wybrakowanych danych (usunięcie całej kolumny)"
      ]
    },
    {
      "cell_type": "code",
      "metadata": {
        "id": "3xyO8oRr8ASn",
        "colab": {
          "base_uri": "https://localhost:8080/",
          "height": 204
        },
        "outputId": "1d0d8d9e-74cc-4d1e-eb0e-2a24c143a1f1"
      },
      "source": [
        "# 'bike_color' has a lot of missing.\n",
        "# If we want to drop.\n",
        "cols_to_drop = ['bike_color']\n",
        "ride_sharing = ride_sharing.drop(cols_to_drop, axis=1)\n",
        "\n",
        "ride_sharing.head()\n",
        "\n"
      ],
      "execution_count": null,
      "outputs": [
        {
          "output_type": "execute_result",
          "data": {
            "text/html": [
              "<div>\n",
              "<style scoped>\n",
              "    .dataframe tbody tr th:only-of-type {\n",
              "        vertical-align: middle;\n",
              "    }\n",
              "\n",
              "    .dataframe tbody tr th {\n",
              "        vertical-align: top;\n",
              "    }\n",
              "\n",
              "    .dataframe thead th {\n",
              "        text-align: right;\n",
              "    }\n",
              "</style>\n",
              "<table border=\"1\" class=\"dataframe\">\n",
              "  <thead>\n",
              "    <tr style=\"text-align: right;\">\n",
              "      <th></th>\n",
              "      <th>duration</th>\n",
              "      <th>station_A_id</th>\n",
              "      <th>station_A_name</th>\n",
              "      <th>station_B_id</th>\n",
              "      <th>station_B_name</th>\n",
              "      <th>bike_id</th>\n",
              "      <th>user_type</th>\n",
              "      <th>user_birth_year</th>\n",
              "      <th>user_gender</th>\n",
              "      <th>tire_size</th>\n",
              "      <th>ride_id</th>\n",
              "    </tr>\n",
              "  </thead>\n",
              "  <tbody>\n",
              "    <tr>\n",
              "      <th>0</th>\n",
              "      <td>12 minutes</td>\n",
              "      <td>81</td>\n",
              "      <td>Berry St at 4th St</td>\n",
              "      <td>323</td>\n",
              "      <td>Broadway at Kearny</td>\n",
              "      <td>5480</td>\n",
              "      <td>2</td>\n",
              "      <td>1959</td>\n",
              "      <td>Male</td>\n",
              "      <td>27</td>\n",
              "      <td>1000</td>\n",
              "    </tr>\n",
              "    <tr>\n",
              "      <th>1</th>\n",
              "      <td>24 minutes</td>\n",
              "      <td>3</td>\n",
              "      <td>Powell St BART Station (Market St at 4th St)</td>\n",
              "      <td>118</td>\n",
              "      <td>Eureka Valley Recreation Center</td>\n",
              "      <td>5193</td>\n",
              "      <td>2</td>\n",
              "      <td>1965</td>\n",
              "      <td>Male</td>\n",
              "      <td>28</td>\n",
              "      <td>1001</td>\n",
              "    </tr>\n",
              "    <tr>\n",
              "      <th>2</th>\n",
              "      <td>8 minutes</td>\n",
              "      <td>67</td>\n",
              "      <td>San Francisco Caltrain Station 2  (Townsend St...</td>\n",
              "      <td>23</td>\n",
              "      <td>The Embarcadero at Steuart St</td>\n",
              "      <td>3652</td>\n",
              "      <td>3</td>\n",
              "      <td>1993</td>\n",
              "      <td>Male</td>\n",
              "      <td>25</td>\n",
              "      <td>1002</td>\n",
              "    </tr>\n",
              "    <tr>\n",
              "      <th>3</th>\n",
              "      <td>4 minutes</td>\n",
              "      <td>16</td>\n",
              "      <td>Steuart St at Market St</td>\n",
              "      <td>28</td>\n",
              "      <td>The Embarcadero at Bryant St</td>\n",
              "      <td>1883</td>\n",
              "      <td>1</td>\n",
              "      <td>1979</td>\n",
              "      <td>Male</td>\n",
              "      <td>27</td>\n",
              "      <td>1003</td>\n",
              "    </tr>\n",
              "    <tr>\n",
              "      <th>4</th>\n",
              "      <td>11 minutes</td>\n",
              "      <td>22</td>\n",
              "      <td>Howard St at Beale St</td>\n",
              "      <td>350</td>\n",
              "      <td>8th St at Brannan St</td>\n",
              "      <td>4626</td>\n",
              "      <td>2</td>\n",
              "      <td>1994</td>\n",
              "      <td>Male</td>\n",
              "      <td>27</td>\n",
              "      <td>1004</td>\n",
              "    </tr>\n",
              "  </tbody>\n",
              "</table>\n",
              "</div>"
            ],
            "text/plain": [
              "     duration  station_A_id  ... tire_size  ride_id\n",
              "0  12 minutes            81  ...        27     1000\n",
              "1  24 minutes             3  ...        28     1001\n",
              "2   8 minutes            67  ...        25     1002\n",
              "3   4 minutes            16  ...        27     1003\n",
              "4  11 minutes            22  ...        27     1004\n",
              "\n",
              "[5 rows x 11 columns]"
            ]
          },
          "metadata": {},
          "execution_count": 7
        }
      ]
    },
    {
      "cell_type": "code",
      "metadata": {
        "id": "HnVvg5Y9R3X1",
        "colab": {
          "base_uri": "https://localhost:8080/"
        },
        "outputId": "9227d8ae-e7e0-42f7-84d8-acda91257815"
      },
      "source": [
        "# Count missing data\n",
        "column_names = ride_sharing.columns\n",
        "counter = ride_sharing[column_names].isnull().sum()\n",
        "print (counter)"
      ],
      "execution_count": null,
      "outputs": [
        {
          "output_type": "stream",
          "name": "stdout",
          "text": [
            "duration           296\n",
            "station_A_id         0\n",
            "station_A_name       0\n",
            "station_B_id         0\n",
            "station_B_name       0\n",
            "bike_id              0\n",
            "user_type            0\n",
            "user_birth_year      0\n",
            "user_gender          0\n",
            "tire_size            0\n",
            "ride_id              0\n",
            "dtype: int64\n"
          ]
        }
      ]
    },
    {
      "cell_type": "markdown",
      "metadata": {
        "id": "eS26mr9U6f_m"
      },
      "source": [
        "Usunięcie wybrakowanych danych (usunięcie obserwacji z brakującymi danymi - usunięcie wierszy)"
      ]
    },
    {
      "cell_type": "code",
      "metadata": {
        "id": "a5r9_3hn5BRZ",
        "colab": {
          "base_uri": "https://localhost:8080/"
        },
        "outputId": "f0d058c9-fd32-44f7-a1dc-b641c86c3bed"
      },
      "source": [
        "# first create missing indicator for features with missing data\n",
        "for col in ride_sharing.columns:\n",
        "    missing = ride_sharing[col].isnull()\n",
        "    num_missing = np.sum(missing)\n",
        "\n",
        "    if num_missing > 0:\n",
        "        print('created missing indicator for: {}'.format(col))\n",
        "        ride_sharing['{}_ismissing'.format(col)] = missing\n",
        "\n",
        "ismissing_cols = [col for col in ride_sharing.columns if 'ismissing' in col]\n",
        "ride_sharing['num_missing'] = ride_sharing[ismissing_cols].sum(axis=1)\n",
        "\n",
        "\n",
        "# drop rows with a lot of missing values.\n",
        "ind_missing = ride_sharing[ride_sharing['num_missing'] > 0].index\n",
        "\n",
        "\n",
        "# Przepisujemy do zmiennej ride_sharing tylko obserwacje gdzie num_missing jest większe od 0\n",
        "ride_sharing = ride_sharing.drop(ind_missing, axis=0)\n",
        "print(ride_sharing)\n"
      ],
      "execution_count": null,
      "outputs": [
        {
          "output_type": "stream",
          "name": "stdout",
          "text": [
            "created missing indicator for: duration\n",
            "         duration  station_A_id  ... duration_ismissing  num_missing\n",
            "0      12 minutes            81  ...              False            0\n",
            "1      24 minutes             3  ...              False            0\n",
            "2       8 minutes            67  ...              False            0\n",
            "3       4 minutes            16  ...              False            0\n",
            "4      11 minutes            22  ...              False            0\n",
            "...           ...           ...  ...                ...          ...\n",
            "25754   9 minutes            21  ...              False            0\n",
            "25755  11 minutes            15  ...              False            0\n",
            "25756  10 minutes            15  ...              False            0\n",
            "25757  14 minutes            15  ...              False            0\n",
            "25758  14 minutes            15  ...              False            0\n",
            "\n",
            "[25464 rows x 13 columns]\n"
          ]
        }
      ]
    },
    {
      "cell_type": "code",
      "metadata": {
        "id": "BNvAPbP0ST3P",
        "colab": {
          "base_uri": "https://localhost:8080/"
        },
        "outputId": "9edd403e-5c6f-4d56-bc31-d0b9d6fff3d1"
      },
      "source": [
        "# Count missing data\n",
        "column_names = ride_sharing.columns\n",
        "counter = ride_sharing[column_names].isnull().sum()\n",
        "print (counter)"
      ],
      "execution_count": null,
      "outputs": [
        {
          "output_type": "stream",
          "name": "stdout",
          "text": [
            "duration              0\n",
            "station_A_id          0\n",
            "station_A_name        0\n",
            "station_B_id          0\n",
            "station_B_name        0\n",
            "bike_id               0\n",
            "user_type             0\n",
            "user_birth_year       0\n",
            "user_gender           0\n",
            "tire_size             0\n",
            "ride_id               0\n",
            "duration_ismissing    0\n",
            "num_missing           0\n",
            "dtype: int64\n"
          ]
        }
      ]
    },
    {
      "cell_type": "markdown",
      "metadata": {
        "id": "JFpN7Qn49PGx"
      },
      "source": [
        "Pozbyliśmy się brakujących danych, teraz jeszcze musimy usunąć dodane kolumny pomocnicze ['bike_color_ismissing','num_missing']\n",
        "\n",
        "Usunięcie dodanych kolumn"
      ]
    },
    {
      "cell_type": "code",
      "metadata": {
        "id": "uqBjNfpi9Rxv",
        "colab": {
          "base_uri": "https://localhost:8080/",
          "height": 204
        },
        "outputId": "1b88eb12-8c65-4f71-8b45-db2654ea53ff"
      },
      "source": [
        "# If we want to remove additional columns\n",
        "cols_to_drop = ['duration_ismissing','num_missing']\n",
        "ride_sharing = ride_sharing.drop(cols_to_drop, axis=1)\n",
        "\n",
        "ride_sharing.head()"
      ],
      "execution_count": null,
      "outputs": [
        {
          "output_type": "execute_result",
          "data": {
            "text/html": [
              "<div>\n",
              "<style scoped>\n",
              "    .dataframe tbody tr th:only-of-type {\n",
              "        vertical-align: middle;\n",
              "    }\n",
              "\n",
              "    .dataframe tbody tr th {\n",
              "        vertical-align: top;\n",
              "    }\n",
              "\n",
              "    .dataframe thead th {\n",
              "        text-align: right;\n",
              "    }\n",
              "</style>\n",
              "<table border=\"1\" class=\"dataframe\">\n",
              "  <thead>\n",
              "    <tr style=\"text-align: right;\">\n",
              "      <th></th>\n",
              "      <th>duration</th>\n",
              "      <th>station_A_id</th>\n",
              "      <th>station_A_name</th>\n",
              "      <th>station_B_id</th>\n",
              "      <th>station_B_name</th>\n",
              "      <th>bike_id</th>\n",
              "      <th>user_type</th>\n",
              "      <th>user_birth_year</th>\n",
              "      <th>user_gender</th>\n",
              "      <th>tire_size</th>\n",
              "      <th>ride_id</th>\n",
              "    </tr>\n",
              "  </thead>\n",
              "  <tbody>\n",
              "    <tr>\n",
              "      <th>0</th>\n",
              "      <td>12 minutes</td>\n",
              "      <td>81</td>\n",
              "      <td>Berry St at 4th St</td>\n",
              "      <td>323</td>\n",
              "      <td>Broadway at Kearny</td>\n",
              "      <td>5480</td>\n",
              "      <td>2</td>\n",
              "      <td>1959</td>\n",
              "      <td>Male</td>\n",
              "      <td>27</td>\n",
              "      <td>1000</td>\n",
              "    </tr>\n",
              "    <tr>\n",
              "      <th>1</th>\n",
              "      <td>24 minutes</td>\n",
              "      <td>3</td>\n",
              "      <td>Powell St BART Station (Market St at 4th St)</td>\n",
              "      <td>118</td>\n",
              "      <td>Eureka Valley Recreation Center</td>\n",
              "      <td>5193</td>\n",
              "      <td>2</td>\n",
              "      <td>1965</td>\n",
              "      <td>Male</td>\n",
              "      <td>28</td>\n",
              "      <td>1001</td>\n",
              "    </tr>\n",
              "    <tr>\n",
              "      <th>2</th>\n",
              "      <td>8 minutes</td>\n",
              "      <td>67</td>\n",
              "      <td>San Francisco Caltrain Station 2  (Townsend St...</td>\n",
              "      <td>23</td>\n",
              "      <td>The Embarcadero at Steuart St</td>\n",
              "      <td>3652</td>\n",
              "      <td>3</td>\n",
              "      <td>1993</td>\n",
              "      <td>Male</td>\n",
              "      <td>25</td>\n",
              "      <td>1002</td>\n",
              "    </tr>\n",
              "    <tr>\n",
              "      <th>3</th>\n",
              "      <td>4 minutes</td>\n",
              "      <td>16</td>\n",
              "      <td>Steuart St at Market St</td>\n",
              "      <td>28</td>\n",
              "      <td>The Embarcadero at Bryant St</td>\n",
              "      <td>1883</td>\n",
              "      <td>1</td>\n",
              "      <td>1979</td>\n",
              "      <td>Male</td>\n",
              "      <td>27</td>\n",
              "      <td>1003</td>\n",
              "    </tr>\n",
              "    <tr>\n",
              "      <th>4</th>\n",
              "      <td>11 minutes</td>\n",
              "      <td>22</td>\n",
              "      <td>Howard St at Beale St</td>\n",
              "      <td>350</td>\n",
              "      <td>8th St at Brannan St</td>\n",
              "      <td>4626</td>\n",
              "      <td>2</td>\n",
              "      <td>1994</td>\n",
              "      <td>Male</td>\n",
              "      <td>27</td>\n",
              "      <td>1004</td>\n",
              "    </tr>\n",
              "  </tbody>\n",
              "</table>\n",
              "</div>"
            ],
            "text/plain": [
              "     duration  station_A_id  ... tire_size  ride_id\n",
              "0  12 minutes            81  ...        27     1000\n",
              "1  24 minutes             3  ...        28     1001\n",
              "2   8 minutes            67  ...        25     1002\n",
              "3   4 minutes            16  ...        27     1003\n",
              "4  11 minutes            22  ...        27     1004\n",
              "\n",
              "[5 rows x 11 columns]"
            ]
          },
          "metadata": {},
          "execution_count": 11
        }
      ]
    },
    {
      "cell_type": "markdown",
      "metadata": {
        "id": "Md89kErK4uVA"
      },
      "source": [
        "Odcięcie \"minutes\"\n",
        "Zamiana kolumny 'duration' STR->INT"
      ]
    },
    {
      "cell_type": "code",
      "metadata": {
        "id": "_zkszwMc43PM",
        "colab": {
          "base_uri": "https://localhost:8080/"
        },
        "outputId": "d9c39fcc-4494-4ce8-c6ba-f1d86d61a316"
      },
      "source": [
        "# Strip duration of minutes\n",
        "ride_sharing['duration_trim'] = ride_sharing['duration'].str.strip(\"minutes\")\n",
        "\n",
        "# Convert duration to integer\n",
        "ride_sharing['duration_time'] = ride_sharing['duration_trim'].astype('int')\n",
        "\n",
        "# Write an assert statement making sure of conversion\n",
        "assert ride_sharing['duration_time'].dtype == 'int'\n",
        "\n",
        "# Print formed columns and calculate average ride duration\n",
        "print(ride_sharing[['duration','duration_trim','duration_time']])\n",
        "print(ride_sharing['duration_time'].mean())\n"
      ],
      "execution_count": null,
      "outputs": [
        {
          "output_type": "stream",
          "name": "stdout",
          "text": [
            "         duration duration_trim  duration_time\n",
            "0      12 minutes           12              12\n",
            "1      24 minutes           24              24\n",
            "2       8 minutes            8               8\n",
            "3       4 minutes            4               4\n",
            "4      11 minutes           11              11\n",
            "...           ...           ...            ...\n",
            "25754   9 minutes            9               9\n",
            "25755  11 minutes           11              11\n",
            "25756  10 minutes           10              10\n",
            "25757  14 minutes           14              14\n",
            "25758  14 minutes           14              14\n",
            "\n",
            "[25464 rows x 3 columns]\n",
            "11.174363807728557\n"
          ]
        }
      ]
    },
    {
      "cell_type": "markdown",
      "metadata": {
        "id": "a38fVXfu_CWa"
      },
      "source": [
        "Usuwanie danych spoza ustalonego zakresu\n",
        "\n",
        "Sprawdzamy jakie są unikalne wartości opon wypożyczanych rowerów"
      ]
    },
    {
      "cell_type": "code",
      "metadata": {
        "id": "bFakiHhoUjIP",
        "colab": {
          "base_uri": "https://localhost:8080/"
        },
        "outputId": "eb94a7b3-99ae-4bac-8d8c-d659fcb9f842"
      },
      "source": [
        "print(ride_sharing['tire_size'].describe())\n",
        "print(ride_sharing['tire_size'].unique())"
      ],
      "execution_count": null,
      "outputs": [
        {
          "output_type": "stream",
          "name": "stdout",
          "text": [
            "count     25464\n",
            "unique        3\n",
            "top          27\n",
            "freq      12656\n",
            "Name: tire_size, dtype: int64\n",
            "[27, 25, 26]\n",
            "Categories (3, int64): [27, 25, 26]\n"
          ]
        }
      ]
    },
    {
      "cell_type": "markdown",
      "metadata": {
        "id": "G9CGMX9uVe8Q"
      },
      "source": [
        "Wiemy, że nie było rowerów z oponami o wielkości 28 cali, więc to zapewne błąd - można je usunąć. Ale aby nie tracić zbyt wielu obserwacji, zamienimy wartość 28 cali na 27 cali."
      ]
    },
    {
      "cell_type": "code",
      "metadata": {
        "id": "N2-l-mwt_G2O",
        "colab": {
          "base_uri": "https://localhost:8080/"
        },
        "outputId": "1ef5adf1-bb81-41a8-802b-ef457dc0ba5c"
      },
      "source": [
        "# Convert tire_sizes to integer\n",
        "ride_sharing['tire_size'] = ride_sharing['tire_size'].astype('int')\n",
        "\n",
        "# Set all values above 27 to 27\n",
        "ride_sharing.loc[ride_sharing['tire_size'] > 27, 'tire_size'] = 27\n",
        "\n",
        "# Reconvert tire_sizes back to categorical\n",
        "ride_sharing['tire_size'] = ride_sharing['tire_size'].astype('category')\n",
        "\n",
        "# Print tire size description\n",
        "print(ride_sharing['tire_size'].describe())"
      ],
      "execution_count": null,
      "outputs": [
        {
          "output_type": "stream",
          "name": "stdout",
          "text": [
            "count     25464\n",
            "unique        3\n",
            "top          27\n",
            "freq      12656\n",
            "Name: tire_size, dtype: int64\n"
          ]
        }
      ]
    },
    {
      "cell_type": "markdown",
      "metadata": {
        "id": "UboSswiVYlQC"
      },
      "source": [
        "Poprawianie błędnie zapisanych dat (zamiana Rok urodzenia na max today)\n",
        "\n",
        "\n",
        "\n"
      ]
    },
    {
      "cell_type": "code",
      "metadata": {
        "id": "Y9MWbEf4Yq2X",
        "colab": {
          "base_uri": "https://localhost:8080/"
        },
        "outputId": "1a6712e7-0e3a-45b6-b38a-168aa851e6f9"
      },
      "source": [
        "# Convert ride_date to datetime\n",
        "ride_sharing['ride_dt'] = pd.to_datetime(ride_sharing['user_birth_year'], format='%Y')\n",
        "\n",
        "# Print maximum of ride_dt column\n",
        "print(ride_sharing['ride_dt'].max())\n",
        "\n",
        "import datetime as dt\n",
        "\n",
        "# Save today's date\n",
        "today = pd.Timestamp('today')\n",
        "\n",
        "# Set all in the future to today's date\n",
        "ride_sharing.loc[ride_sharing['ride_dt'] > today, 'ride_dt'] = today\n",
        "\n",
        "# Print NEW maximum of ride_dt column\n",
        "print(ride_sharing['ride_dt'].max())"
      ],
      "execution_count": null,
      "outputs": [
        {
          "output_type": "stream",
          "name": "stdout",
          "text": [
            "2040-01-01 00:00:00\n",
            "2021-11-17 09:15:29.557958\n"
          ]
        }
      ]
    },
    {
      "cell_type": "markdown",
      "metadata": {
        "id": "EFZ6cQ3SP8q0"
      },
      "source": [
        "Wyszukiwanie wszystkich pełnych duplikatów"
      ]
    },
    {
      "cell_type": "code",
      "metadata": {
        "id": "On5IjUR1i6uh"
      },
      "source": [
        "# Find a duplicate rows\n",
        "duplicated_rows= ride_sharing[ride_sharing.duplicated()]\n",
        "print(duplicated_rows)"
      ],
      "execution_count": null,
      "outputs": []
    },
    {
      "cell_type": "markdown",
      "metadata": {
        "id": "3h2Yw41QQH1S"
      },
      "source": [
        "Usuwanie pełnych duplikatów"
      ]
    },
    {
      "cell_type": "code",
      "metadata": {
        "id": "R4zpUNYxgPOP",
        "colab": {
          "base_uri": "https://localhost:8080/"
        },
        "outputId": "887f0e4e-1b08-4d7a-d09e-0ada9af0c541"
      },
      "source": [
        "# Drop complete duplicates from ride_sharing\n",
        "print(ride_sharing)\n",
        "ride_sharing = ride_sharing.drop_duplicates()\n",
        "print(ride_sharing)"
      ],
      "execution_count": null,
      "outputs": [
        {
          "output_type": "stream",
          "name": "stdout",
          "text": [
            "         duration  station_A_id  ... duration_time    ride_dt\n",
            "0      12 minutes            81  ...            12 1959-01-01\n",
            "1      24 minutes             3  ...            24 1965-01-01\n",
            "2       8 minutes            67  ...             8 1993-01-01\n",
            "3       4 minutes            16  ...             4 1979-01-01\n",
            "4      11 minutes            22  ...            11 1994-01-01\n",
            "...           ...           ...  ...           ...        ...\n",
            "25754   9 minutes            21  ...             9 1989-01-01\n",
            "25755  11 minutes            15  ...            11 2000-01-01\n",
            "25756  10 minutes            15  ...            10 1998-01-01\n",
            "25757  14 minutes            15  ...            14 1995-01-01\n",
            "25758  14 minutes            15  ...            14 1995-01-01\n",
            "\n",
            "[25464 rows x 14 columns]\n",
            "         duration  station_A_id  ... duration_time    ride_dt\n",
            "0      12 minutes            81  ...            12 1959-01-01\n",
            "1      24 minutes             3  ...            24 1965-01-01\n",
            "2       8 minutes            67  ...             8 1993-01-01\n",
            "3       4 minutes            16  ...             4 1979-01-01\n",
            "4      11 minutes            22  ...            11 1994-01-01\n",
            "...           ...           ...  ...           ...        ...\n",
            "25754   9 minutes            21  ...             9 1989-01-01\n",
            "25755  11 minutes            15  ...            11 2000-01-01\n",
            "25756  10 minutes            15  ...            10 1998-01-01\n",
            "25757  14 minutes            15  ...            14 1995-01-01\n",
            "25758  14 minutes            15  ...            14 1995-01-01\n",
            "\n",
            "[25462 rows x 14 columns]\n"
          ]
        }
      ]
    },
    {
      "cell_type": "code",
      "metadata": {
        "id": "YqxMGo5RboEv",
        "colab": {
          "base_uri": "https://localhost:8080/"
        },
        "outputId": "69737d63-c1c8-4966-ecbe-1a1117285af4"
      },
      "source": [
        "# Sprawdzamy czy usunięto pełne duplikaty\n",
        "duplicated_rows = ride_sharing[ride_sharing.duplicated()]\n",
        "print(duplicated_rows)\n"
      ],
      "execution_count": null,
      "outputs": [
        {
          "output_type": "stream",
          "name": "stdout",
          "text": [
            "Empty DataFrame\n",
            "Columns: [duration, station_A_id, station_A_name, station_B_id, station_B_name, bike_id, user_type, user_birth_year, user_gender, tire_size, ride_id, duration_trim, duration_time, ride_dt]\n",
            "Index: []\n"
          ]
        }
      ]
    },
    {
      "cell_type": "markdown",
      "metadata": {
        "id": "scn-rHnQgHn2"
      },
      "source": [
        "Wyszukanie duplikatów niezupełnych. Interesują nas tylko powielenia w kolumnie \"ride_id\". Nie powinno ich być, ponieważ pod konkretnym ID może występować tylko 1 jazda (wypożyczenie roweru)."
      ]
    },
    {
      "cell_type": "code",
      "metadata": {
        "id": "49E7J5uOMVca",
        "colab": {
          "base_uri": "https://localhost:8080/"
        },
        "outputId": "2897cc48-a3bc-40fb-ba46-59370292ea5e"
      },
      "source": [
        "# Find duplicates\n",
        "duplicates = ride_sharing.duplicated(subset = 'ride_id', keep = False)\n",
        "\n",
        "# Sort your duplicated rides\n",
        "duplicated_rides = ride_sharing[duplicates].sort_values(by = 'ride_id')\n",
        "\n",
        "# Print relevant columns of duplicated_rides\n",
        "print(duplicated_rides[['station_A_id', 'station_B_id', 'bike_id', 'user_type','ride_id','duration_time','user_birth_year']])\n",
        "\n",
        "# Print relevant columns of duplicated_rides\n",
        "print(duplicated_rides[['ride_id','duration_time','user_birth_year']])\n"
      ],
      "execution_count": null,
      "outputs": [
        {
          "output_type": "stream",
          "name": "stdout",
          "text": [
            "    station_A_id  station_B_id  ...  duration_time  user_birth_year\n",
            "31             5            15  ...             38             1980\n",
            "32             5            15  ...             18             1990\n",
            "33            67            76  ...             36             1977\n",
            "34            67            76  ...             16             1979\n",
            "35             3            74  ...             31             1968\n",
            "36             3            74  ...             11             1988\n",
            "\n",
            "[6 rows x 7 columns]\n",
            "    ride_id  duration_time  user_birth_year\n",
            "31     1031             38             1980\n",
            "32     1031             18             1990\n",
            "33     1033             36             1977\n",
            "34     1033             16             1979\n",
            "35     1035             31             1968\n",
            "36     1035             11             1988\n"
          ]
        }
      ]
    },
    {
      "cell_type": "markdown",
      "metadata": {
        "id": "pCBda3EAbf0S"
      },
      "source": [
        "Usuwanie niepełnych duplikatów w kolumnie 'ride_id' - dodatkowo chcemy  uśrednić wartości kolumn ['user_birth_year'] i ['duration_time']"
      ]
    },
    {
      "cell_type": "code",
      "metadata": {
        "id": "NvRrVs4hbj9m",
        "colab": {
          "base_uri": "https://localhost:8080/"
        },
        "outputId": "abe45e4b-9e54-4bc7-fd6e-245a9616257f"
      },
      "source": [
        "# Create statistics dictionary for aggregation function\n",
        "statistics = {'user_birth_year': 'mean', 'duration_time': 'mean'}\n",
        "\n",
        "# Group by ride_id and compute new statistics\n",
        "ride_unique = ride_sharing.groupby('ride_id').agg(statistics).reset_index()\n",
        "\n",
        "\n",
        "#Sprawdzamy czy statystyki zostały wpisane poprawnie\n",
        "\n",
        "#print(ride_unique[29:37])\n",
        "filtred_data = (ride_unique[['ride_id','duration_time','user_birth_year']])\n",
        "print(filtred_data[20:40])\n"
      ],
      "execution_count": null,
      "outputs": [
        {
          "output_type": "stream",
          "name": "stdout",
          "text": [
            "    ride_id  duration_time  user_birth_year\n",
            "20     1020             16             1998\n",
            "21     1021             11             1986\n",
            "22     1022             10             1982\n",
            "23     1023              3             1992\n",
            "24     1025              3             1990\n",
            "25     1028              5             1990\n",
            "26     1031             28             1985\n",
            "27     1033             26             1978\n",
            "28     1035             21             1978\n",
            "29     1037              5             1989\n",
            "30     1038              6             1966\n",
            "31     1039              7             1986\n",
            "32     1040              4             1988\n",
            "33     1041             12             1967\n",
            "34     1042              3             1977\n",
            "35     1043              3             1977\n",
            "36     1044              2             1996\n",
            "37     1045              1             1990\n",
            "38     1046              7             1989\n",
            "39     1047              8             1994\n"
          ]
        }
      ]
    },
    {
      "cell_type": "markdown",
      "metadata": {
        "id": "YsKL7DG9hCt2"
      },
      "source": [
        "Ostateczne wyszukiwanie duplikatów - sprawdzenie czy wszystko usunięto"
      ]
    },
    {
      "cell_type": "code",
      "metadata": {
        "id": "lmXinXBThJE2"
      },
      "source": [
        "# Find duplicated values again\n",
        "duplicates = ride_unique.duplicated(subset = 'ride_id', keep = False)\n",
        "duplicated_rides = ride_unique[duplicates == True]\n",
        "\n",
        "print(duplicated_rides)"
      ],
      "execution_count": null,
      "outputs": []
    }
  ]
}